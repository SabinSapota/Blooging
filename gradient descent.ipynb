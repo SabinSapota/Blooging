{
 "cells": [
  {
   "cell_type": "markdown",
   "id": "4b89bdd6",
   "metadata": {},
   "source": [
    "# Implemanting Gradient Descent in python"
   ]
  },
  {
   "cell_type": "code",
   "execution_count": 1,
   "id": "438970d5",
   "metadata": {},
   "outputs": [],
   "source": [
    "import matplotlib.pyplot as plt"
   ]
  },
  {
   "cell_type": "markdown",
   "id": "87659ef2",
   "metadata": {},
   "source": [
    "- this is my function\n",
    "y=(x+5)**2"
   ]
  },
  {
   "cell_type": "code",
   "execution_count": 38,
   "id": "5c592d16",
   "metadata": {},
   "outputs": [],
   "source": [
    "def gradient_descent(x,alpha):\n",
    "    cur_x = x # The algorithm starts at x\n",
    "    rate = alpha # Learning rate\n",
    "    precision = 0.000001 #This tells us when to stop the algorithm\n",
    "    previous_step_size = 1 #\n",
    "    max_iters = 10000 # maximum number of iterations\n",
    "    iters = 0 #iteration counter\n",
    "    df = lambda x: 2*(x+5) #Gradient of our function\n",
    "    my_list=[]\n",
    "    while  previous_step_size > precision and iters < max_iters:\n",
    "        prev_x = cur_x #Store current x value in prev_x\n",
    "        cur_x = cur_x - rate * df(prev_x) #Grad descent\n",
    "        previous_step_size = abs(cur_x - prev_x) #Change in x\n",
    "        iters = iters+1 #iteration count\n",
    "        #print(\"Iteration\",iters,\"\\nX value is\",cur_x) #Print iterations\n",
    "        my_list.append(cur_x)\n",
    "\n",
    "    print(\"The local minimum occurs at\", cur_x)\n",
    "    plt.plot(range(1,len(my_list)+1),my_list,marker='o',mfc='red')"
   ]
  },
  {
   "cell_type": "code",
   "execution_count": 41,
   "id": "b73d97d5",
   "metadata": {},
   "outputs": [
    {
     "name": "stdout",
     "output_type": "stream",
     "text": [
      "The local minimum occurs at -4.999996786123911\n"
     ]
    },
    {
     "data": {
      "image/png": "[encoded data removed]",
      "text/plain": [
       "<Figure size 432x288 with 1 Axes>"
      ]
     },
     "metadata": {
      "needs_background": "light"
     },
     "output_type": "display_data"
    }
   ],
   "source": [
    "gradient_descent(3,0.1)"
   ]
  },
  {
   "cell_type": "code",
   "execution_count": null,
   "id": "d008d0aa",
   "metadata": {},
   "outputs": [],
   "source": []
  },
  {
   "cell_type": "code",
   "execution_count": null,
   "id": "295da8f1",
   "metadata": {},
   "outputs": [],
   "source": []
  },
  {
   "cell_type": "code",
   "execution_count": null,
   "id": "c919e8ab",
   "metadata": {},
   "outputs": [],
   "source": []
  }
 ],
 "metadata": {
  "kernelspec": {
   "display_name": "Python 3",
   "language": "python",
   "name": "python3"
  },
  "language_info": {
   "codemirror_mode": {
    "name": "ipython",
    "version": 3
   },
   "file_extension": ".py",
   "mimetype": "text/x-python",
   "name": "python",
   "nbconvert_exporter": "python",
   "pygments_lexer": "ipython3",
   "version": "3.8.8"
  }
 },
 "nbformat": 4,
 "nbformat_minor": 5
}
