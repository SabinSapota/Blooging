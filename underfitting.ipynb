{
 "cells": [
  {
   "cell_type": "markdown",
   "id": "ec77ea84",
   "metadata": {},
   "source": [
    "# Underfitting and Overfitting in Ml"
   ]
  },
  {
   "cell_type": "markdown",
   "id": "3c9b7342",
   "metadata": {},
   "source": [
    "Overfitting and underfitting are the most common problem in Machine Learning.\n",
    "-  **Overfitting** is the  situation where model generlise well in the training data set but fails to generlise to unseen data(testing data set).In Machine learning Lingo this problem is called **high variance**.It occurs when you give too much attributes(feature), then model will be puzzled and results in the overfitting.\n",
    "    -  The process of making a simpler model reduces overfitting.In Machine learning term it is called **Generlisation** or  a better **hyperparameter** tunning could solve the problem\n",
    "    \n",
    "\n",
    "-  **Underfitting** is the situation where model does not do well in training data set.In machine learnig lingo this is the situation of **high bias**.This condition occurs when we try to  take too simple model.\n",
    "\n",
    "We can check whether the model is underfitting or overfitting by the following way\n",
    "-  **model score** for a good fit, training score should be slightly greater than validation score.\n",
    "-  **MSE(mean sqaure error)** :- if the MSE of the model on the test data is substantially higher than the MSE obtained on the the training data , this is a sign of overfitting.\n",
    "-  **MAE(mean absolute error)**:- it is also used to check the accuracy of the model which is based on Manhattan distance norm.I will used MAE to illustate overfitting problem which can be solved with  hyperparameter tunning. \n",
    " \n"
   ]
  },
  {
   "cell_type": "code",
   "execution_count": 41,
   "id": "223881fe",
   "metadata": {},
   "outputs": [],
   "source": [
    "import pandas as pd\n",
    "import matplotlib.pyplot as plt\n",
    "import seaborn as sns\n",
    "import plotly.express as px\n",
    "import numpy as np\n",
    "pd.reset_option('^display.', silent=True)"
   ]
  },
  {
   "cell_type": "code",
   "execution_count": 42,
   "id": "8bf82a8a",
   "metadata": {},
   "outputs": [
    {
     "data": {
      "text/html": [
       "<div>\n",
       "<style scoped>\n",
       "    .dataframe tbody tr th:only-of-type {\n",
       "        vertical-align: middle;\n",
       "    }\n",
       "\n",
       "    .dataframe tbody tr th {\n",
       "        vertical-align: top;\n",
       "    }\n",
       "\n",
       "    .dataframe thead th {\n",
       "        text-align: right;\n",
       "    }\n",
       "</style>\n",
       "<table border=\"1\" class=\"dataframe\">\n",
       "  <thead>\n",
       "    <tr style=\"text-align: right;\">\n",
       "      <th></th>\n",
       "      <th>Suburb</th>\n",
       "      <th>Address</th>\n",
       "      <th>Rooms</th>\n",
       "      <th>Type</th>\n",
       "      <th>Price</th>\n",
       "      <th>Method</th>\n",
       "      <th>SellerG</th>\n",
       "      <th>Date</th>\n",
       "      <th>Distance</th>\n",
       "      <th>Postcode</th>\n",
       "      <th>...</th>\n",
       "      <th>Bathroom</th>\n",
       "      <th>Car</th>\n",
       "      <th>Landsize</th>\n",
       "      <th>BuildingArea</th>\n",
       "      <th>YearBuilt</th>\n",
       "      <th>CouncilArea</th>\n",
       "      <th>Lattitude</th>\n",
       "      <th>Longtitude</th>\n",
       "      <th>Regionname</th>\n",
       "      <th>Propertycount</th>\n",
       "    </tr>\n",
       "  </thead>\n",
       "  <tbody>\n",
       "    <tr>\n",
       "      <th>0</th>\n",
       "      <td>Abbotsford</td>\n",
       "      <td>85 Turner St</td>\n",
       "      <td>2</td>\n",
       "      <td>h</td>\n",
       "      <td>1480000.0</td>\n",
       "      <td>S</td>\n",
       "      <td>Biggin</td>\n",
       "      <td>3/12/2016</td>\n",
       "      <td>2.5</td>\n",
       "      <td>3067.0</td>\n",
       "      <td>...</td>\n",
       "      <td>1.0</td>\n",
       "      <td>1.0</td>\n",
       "      <td>202.0</td>\n",
       "      <td>NaN</td>\n",
       "      <td>NaN</td>\n",
       "      <td>Yarra</td>\n",
       "      <td>-37.7996</td>\n",
       "      <td>144.9984</td>\n",
       "      <td>Northern Metropolitan</td>\n",
       "      <td>4019.0</td>\n",
       "    </tr>\n",
       "    <tr>\n",
       "      <th>1</th>\n",
       "      <td>Abbotsford</td>\n",
       "      <td>25 Bloomburg St</td>\n",
       "      <td>2</td>\n",
       "      <td>h</td>\n",
       "      <td>1035000.0</td>\n",
       "      <td>S</td>\n",
       "      <td>Biggin</td>\n",
       "      <td>4/02/2016</td>\n",
       "      <td>2.5</td>\n",
       "      <td>3067.0</td>\n",
       "      <td>...</td>\n",
       "      <td>1.0</td>\n",
       "      <td>0.0</td>\n",
       "      <td>156.0</td>\n",
       "      <td>79.0</td>\n",
       "      <td>1900.0</td>\n",
       "      <td>Yarra</td>\n",
       "      <td>-37.8079</td>\n",
       "      <td>144.9934</td>\n",
       "      <td>Northern Metropolitan</td>\n",
       "      <td>4019.0</td>\n",
       "    </tr>\n",
       "    <tr>\n",
       "      <th>2</th>\n",
       "      <td>Abbotsford</td>\n",
       "      <td>5 Charles St</td>\n",
       "      <td>3</td>\n",
       "      <td>h</td>\n",
       "      <td>1465000.0</td>\n",
       "      <td>SP</td>\n",
       "      <td>Biggin</td>\n",
       "      <td>4/03/2017</td>\n",
       "      <td>2.5</td>\n",
       "      <td>3067.0</td>\n",
       "      <td>...</td>\n",
       "      <td>2.0</td>\n",
       "      <td>0.0</td>\n",
       "      <td>134.0</td>\n",
       "      <td>150.0</td>\n",
       "      <td>1900.0</td>\n",
       "      <td>Yarra</td>\n",
       "      <td>-37.8093</td>\n",
       "      <td>144.9944</td>\n",
       "      <td>Northern Metropolitan</td>\n",
       "      <td>4019.0</td>\n",
       "    </tr>\n",
       "  </tbody>\n",
       "</table>\n",
       "<p>3 rows × 21 columns</p>\n",
       "</div>"
      ],
      "text/plain": [
       "       Suburb          Address  Rooms Type      Price Method SellerG  \\\n",
       "0  Abbotsford     85 Turner St      2    h  1480000.0      S  Biggin   \n",
       "1  Abbotsford  25 Bloomburg St      2    h  1035000.0      S  Biggin   \n",
       "2  Abbotsford     5 Charles St      3    h  1465000.0     SP  Biggin   \n",
       "\n",
       "        Date  Distance  Postcode  ...  Bathroom  Car  Landsize  BuildingArea  \\\n",
       "0  3/12/2016       2.5    3067.0  ...       1.0  1.0     202.0           NaN   \n",
       "1  4/02/2016       2.5    3067.0  ...       1.0  0.0     156.0          79.0   \n",
       "2  4/03/2017       2.5    3067.0  ...       2.0  0.0     134.0         150.0   \n",
       "\n",
       "   YearBuilt  CouncilArea Lattitude  Longtitude             Regionname  \\\n",
       "0        NaN        Yarra  -37.7996    144.9984  Northern Metropolitan   \n",
       "1     1900.0        Yarra  -37.8079    144.9934  Northern Metropolitan   \n",
       "2     1900.0        Yarra  -37.8093    144.9944  Northern Metropolitan   \n",
       "\n",
       "  Propertycount  \n",
       "0        4019.0  \n",
       "1        4019.0  \n",
       "2        4019.0  \n",
       "\n",
       "[3 rows x 21 columns]"
      ]
     },
     "execution_count": 42,
     "metadata": {},
     "output_type": "execute_result"
    }
   ],
   "source": [
    "# i am loading melbourne data set to illustrate this\n",
    "df=pd.read_csv('melb_data.csv')\n",
    "df.head(3)"
   ]
  },
  {
   "cell_type": "code",
   "execution_count": 43,
   "id": "6155a28d",
   "metadata": {},
   "outputs": [
    {
     "data": {
      "text/plain": [
       "(13580, 21)"
      ]
     },
     "execution_count": 43,
     "metadata": {},
     "output_type": "execute_result"
    }
   ],
   "source": [
    "df.shape # shape of data set"
   ]
  },
  {
   "cell_type": "code",
   "execution_count": 44,
   "id": "1f5d8675",
   "metadata": {},
   "outputs": [
    {
     "data": {
      "text/plain": [
       "Suburb            object\n",
       "Address           object\n",
       "Rooms              int64\n",
       "Type              object\n",
       "Price            float64\n",
       "Method            object\n",
       "SellerG           object\n",
       "Date              object\n",
       "Distance         float64\n",
       "Postcode         float64\n",
       "Bedroom2         float64\n",
       "Bathroom         float64\n",
       "Car              float64\n",
       "Landsize         float64\n",
       "BuildingArea     float64\n",
       "YearBuilt        float64\n",
       "CouncilArea       object\n",
       "Lattitude        float64\n",
       "Longtitude       float64\n",
       "Regionname        object\n",
       "Propertycount    float64\n",
       "dtype: object"
      ]
     },
     "execution_count": 44,
     "metadata": {},
     "output_type": "execute_result"
    }
   ],
   "source": [
    "df.dtypes"
   ]
  },
  {
   "cell_type": "code",
   "execution_count": 45,
   "id": "eadf7814",
   "metadata": {},
   "outputs": [
    {
     "data": {
      "text/plain": [
       "['Car', 'BuildingArea', 'YearBuilt', 'CouncilArea']"
      ]
     },
     "execution_count": 45,
     "metadata": {},
     "output_type": "execute_result"
    }
   ],
   "source": [
    "# columns with the missing value\n",
    "[col for col in df.columns if df[col].isna().any()]"
   ]
  },
  {
   "cell_type": "code",
   "execution_count": 46,
   "id": "ba4c3f46",
   "metadata": {},
   "outputs": [
    {
     "data": {
      "text/plain": [
       "Suburb              0\n",
       "Address             0\n",
       "Rooms               0\n",
       "Type                0\n",
       "Price               0\n",
       "Method              0\n",
       "SellerG             0\n",
       "Date                0\n",
       "Distance            0\n",
       "Postcode            0\n",
       "Bedroom2            0\n",
       "Bathroom            0\n",
       "Car                62\n",
       "Landsize            0\n",
       "BuildingArea     6450\n",
       "YearBuilt        5375\n",
       "CouncilArea      1369\n",
       "Lattitude           0\n",
       "Longtitude          0\n",
       "Regionname          0\n",
       "Propertycount       0\n",
       "dtype: int64"
      ]
     },
     "execution_count": 46,
     "metadata": {},
     "output_type": "execute_result"
    }
   ],
   "source": [
    "df.isna().sum() # to check null values"
   ]
  },
  {
   "cell_type": "code",
   "execution_count": 47,
   "id": "40f789b7",
   "metadata": {},
   "outputs": [
    {
     "data": {
      "text/plain": [
       "['Suburb',\n",
       " 'Address',\n",
       " 'Type',\n",
       " 'Method',\n",
       " 'SellerG',\n",
       " 'Date',\n",
       " 'CouncilArea',\n",
       " 'Regionname']"
      ]
     },
     "execution_count": 47,
     "metadata": {},
     "output_type": "execute_result"
    }
   ],
   "source": [
    "cat_columns=[col for col in df.columns if df[col].dtype=='O']  # categoricals columns in data set\n",
    "cat_columns"
   ]
  },
  {
   "cell_type": "code",
   "execution_count": 48,
   "id": "b5ba6532",
   "metadata": {},
   "outputs": [
    {
     "data": {
      "text/plain": [
       "Suburb             314\n",
       "Address          13378\n",
       "Rooms                9\n",
       "Type                 3\n",
       "Price             2204\n",
       "Method               5\n",
       "SellerG            268\n",
       "Date                58\n",
       "Distance           202\n",
       "Postcode           198\n",
       "Bedroom2            12\n",
       "Bathroom             9\n",
       "Car                 12\n",
       "Landsize          1448\n",
       "BuildingArea       603\n",
       "YearBuilt          145\n",
       "CouncilArea         34\n",
       "Lattitude         6503\n",
       "Longtitude        7063\n",
       "Regionname           8\n",
       "Propertycount      311\n",
       "dtype: int64"
      ]
     },
     "execution_count": 48,
     "metadata": {},
     "output_type": "execute_result"
    }
   ],
   "source": [
    "df.apply(lambda x:len(x.unique()))  # to see unique element in each columns"
   ]
  },
  {
   "cell_type": "code",
   "execution_count": 49,
   "id": "accdcd6c",
   "metadata": {},
   "outputs": [
    {
     "data": {
      "text/plain": [
       "['Rooms',\n",
       " 'Price',\n",
       " 'Distance',\n",
       " 'Postcode',\n",
       " 'Bedroom2',\n",
       " 'Bathroom',\n",
       " 'Car',\n",
       " 'Landsize',\n",
       " 'BuildingArea',\n",
       " 'YearBuilt',\n",
       " 'Lattitude',\n",
       " 'Longtitude',\n",
       " 'Propertycount']"
      ]
     },
     "execution_count": 49,
     "metadata": {},
     "output_type": "execute_result"
    }
   ],
   "source": [
    "con_columns=[col for col in df.columns if df[col].dtype!='O'] # numerical columns\n",
    "con_columns"
   ]
  },
  {
   "cell_type": "code",
   "execution_count": 50,
   "id": "1b2c8da3",
   "metadata": {},
   "outputs": [],
   "source": [
    "df=df.dropna(axis=0) # dropping rows with na values"
   ]
  },
  {
   "cell_type": "code",
   "execution_count": 51,
   "id": "bac371c5",
   "metadata": {},
   "outputs": [],
   "source": [
    "# for this i am using only this columns\n",
    "my_col=['Rooms', 'Bathroom', 'Landsize', 'BuildingArea', \n",
    "                        'YearBuilt', 'Lattitude', 'Longtitude']"
   ]
  },
  {
   "cell_type": "code",
   "execution_count": 52,
   "id": "bd0eb27b",
   "metadata": {},
   "outputs": [],
   "source": [
    "X=df[my_col]  #independent feature\n",
    "y=df.Price  # dependent feature"
   ]
  },
  {
   "cell_type": "code",
   "execution_count": 53,
   "id": "19bc1d48",
   "metadata": {},
   "outputs": [],
   "source": [
    "from sklearn.model_selection import train_test_split\n",
    "\n",
    "# split data into training and validation data, for both features and target\n",
    "train_X, test_X, train_y,test_y = train_test_split(X, y,random_state = 0,test_size=0.2)"
   ]
  },
  {
   "cell_type": "code",
   "execution_count": 54,
   "id": "e1060234",
   "metadata": {},
   "outputs": [],
   "source": [
    "from sklearn.metrics import mean_absolute_error\n",
    "from sklearn.tree import DecisionTreeRegressor\n",
    "\n"
   ]
  },
  {
   "cell_type": "markdown",
   "id": "66412237",
   "metadata": {},
   "source": [
    "here I am using DecisionTreeRegressor , how can changing the values in  max_leaf_nodes  can result in over fitting problems"
   ]
  },
  {
   "cell_type": "markdown",
   "id": "f2bac507",
   "metadata": {},
   "source": [
    "# mean_absolute_error"
   ]
  },
  {
   "cell_type": "code",
   "execution_count": 57,
   "id": "4af39472",
   "metadata": {},
   "outputs": [],
   "source": [
    "# now we make a custome function that will calculate MAE\n",
    "\n",
    "def mae(leaf_nodes,train_X,test_X,train_y,test_y):\n",
    "    model=DecisionTreeRegressor(max_leaf_nodes=leaf_nodes,random_state=0)\n",
    "    model.fit(train_X,train_y)\n",
    "    preds_val=model.predict(test_X)\n",
    "    return mean_absolute_error(test_y,preds_val)\n",
    "    "
   ]
  },
  {
   "cell_type": "code",
   "execution_count": 65,
   "id": "47d27cf4",
   "metadata": {},
   "outputs": [
    {
     "name": "stdout",
     "output_type": "stream",
     "text": [
      "max_leaf_nodes=2 , mean absolute error =432983.02826149494\n",
      "max_leaf_nodes=3 , mean absolute error =388294.7887033733\n",
      "max_leaf_nodes=4 , mean absolute error =371685.4690141141\n",
      "max_leaf_nodes=5 , mean absolute error =363932.3772588456\n",
      "max_leaf_nodes=6 , mean absolute error =340772.89880111354\n",
      "max_leaf_nodes=7 , mean absolute error =340247.97220730124\n",
      "max_leaf_nodes=8 , mean absolute error =329128.29600809776\n",
      "max_leaf_nodes=9 , mean absolute error =324924.27856486\n",
      "max_leaf_nodes=10 , mean absolute error =312401.8271164357\n",
      "max_leaf_nodes=11 , mean absolute error =308103.44174258615\n",
      "max_leaf_nodes=12 , mean absolute error =307742.85706516675\n",
      "max_leaf_nodes=13 , mean absolute error =304144.84177489276\n",
      "max_leaf_nodes=14 , mean absolute error =293854.50418994896\n",
      "max_leaf_nodes=15 , mean absolute error =288842.06144212006\n",
      "max_leaf_nodes=16 , mean absolute error =286906.3747777113\n",
      "max_leaf_nodes=17 , mean absolute error =283068.1343238229\n",
      "max_leaf_nodes=18 , mean absolute error =282594.9028997563\n",
      "max_leaf_nodes=19 , mean absolute error =282133.98377844953\n",
      "max_leaf_nodes=20 , mean absolute error =278595.95066928223\n"
     ]
    }
   ],
   "source": [
    "for i in range(2,21):\n",
    "    print(f'max_leaf_nodes={i} , mean absolute error ={mae(i,train_X,test_X,train_y,test_y)}')"
   ]
  },
  {
   "cell_type": "markdown",
   "id": "86d07d21",
   "metadata": {},
   "source": [
    "# Mean squared Error"
   ]
  },
  {
   "cell_type": "code",
   "execution_count": 67,
   "id": "36581237",
   "metadata": {},
   "outputs": [],
   "source": [
    "from sklearn.metrics import mean_squared_error"
   ]
  },
  {
   "cell_type": "code",
   "execution_count": 68,
   "id": "5835c5ce",
   "metadata": {},
   "outputs": [],
   "source": [
    "def mse(leaf_nodes,train_X,test_X,train_y,test_y):\n",
    "    model=DecisionTreeRegressor(max_leaf_nodes=leaf_nodes,random_state=0)\n",
    "    model.fit(train_X,train_y)\n",
    "    preds_val=model.predict(test_X)\n",
    "    return mean_squared_error(test_y,preds_val)\n",
    "    "
   ]
  },
  {
   "cell_type": "code",
   "execution_count": 71,
   "id": "3206d4df",
   "metadata": {},
   "outputs": [
    {
     "name": "stdout",
     "output_type": "stream",
     "text": [
      "max_leaf_nodes=2 , mean square error =430909205150.11615\n",
      "max_leaf_nodes=3 , mean square error =389657034320.64\n",
      "max_leaf_nodes=4 , mean square error =355812711821.6914\n",
      "max_leaf_nodes=5 , mean square error =339521478332.8786\n",
      "max_leaf_nodes=6 , mean square error =320290429543.202\n",
      "max_leaf_nodes=7 , mean square error =319202845965.6511\n",
      "max_leaf_nodes=8 , mean square error =309470539769.45886\n",
      "max_leaf_nodes=9 , mean square error =300543768042.1805\n",
      "max_leaf_nodes=10 , mean square error =290409450019.03516\n",
      "max_leaf_nodes=11 , mean square error =281867662619.7987\n",
      "max_leaf_nodes=12 , mean square error =280808760641.4721\n",
      "max_leaf_nodes=13 , mean square error =269921270058.87408\n",
      "max_leaf_nodes=14 , mean square error =261111030352.98358\n",
      "max_leaf_nodes=15 , mean square error =256482180917.62912\n",
      "max_leaf_nodes=16 , mean square error =251807261865.17877\n",
      "max_leaf_nodes=17 , mean square error =249442219669.5871\n",
      "max_leaf_nodes=18 , mean square error =248555362279.40726\n",
      "max_leaf_nodes=19 , mean square error =248316998795.1017\n",
      "max_leaf_nodes=20 , mean square error =245160305417.43137\n"
     ]
    }
   ],
   "source": [
    "for i in range(2,21):\n",
    "    print(f'max_leaf_nodes={i} , mean square error ={mse(i,train_X,test_X,train_y,test_y)}')"
   ]
  },
  {
   "cell_type": "markdown",
   "id": "01be388c",
   "metadata": {},
   "source": [
    "# Root mean squared"
   ]
  },
  {
   "cell_type": "code",
   "execution_count": 73,
   "id": "90b52809",
   "metadata": {},
   "outputs": [],
   "source": [
    "def mse(leaf_nodes,train_X,test_X,train_y,test_y):\n",
    "    model=DecisionTreeRegressor(max_leaf_nodes=leaf_nodes,random_state=0)\n",
    "    model.fit(train_X,train_y)\n",
    "    preds_val=model.predict(test_X)\n",
    "    return np.sqrt(mean_squared_error(test_y,preds_val))\n",
    "    "
   ]
  },
  {
   "cell_type": "code",
   "execution_count": 75,
   "id": "d79004b3",
   "metadata": {},
   "outputs": [
    {
     "name": "stdout",
     "output_type": "stream",
     "text": [
      "max_leaf_nodes=2 ,root mean square error =656436.7487809592\n",
      "max_leaf_nodes=3 ,root mean square error =624225.147138947\n",
      "max_leaf_nodes=4 ,root mean square error =596500.3871094229\n",
      "max_leaf_nodes=5 ,root mean square error =582684.7160625363\n",
      "max_leaf_nodes=6 ,root mean square error =565942.0726039036\n",
      "max_leaf_nodes=7 ,root mean square error =564980.3943197066\n",
      "max_leaf_nodes=8 ,root mean square error =556300.7637685381\n",
      "max_leaf_nodes=9 ,root mean square error =548218.7228125108\n",
      "max_leaf_nodes=10 ,root mean square error =538896.5114185052\n",
      "max_leaf_nodes=11 ,root mean square error =530912.1044201184\n",
      "max_leaf_nodes=12 ,root mean square error =529913.918142817\n",
      "max_leaf_nodes=13 ,root mean square error =519539.4788260793\n",
      "max_leaf_nodes=14 ,root mean square error =510990.24487066636\n",
      "max_leaf_nodes=15 ,root mean square error =506440.6983227445\n",
      "max_leaf_nodes=16 ,root mean square error =501804.0074223987\n",
      "max_leaf_nodes=17 ,root mean square error =499441.9082031334\n",
      "max_leaf_nodes=18 ,root mean square error =498553.26924954297\n",
      "max_leaf_nodes=19 ,root mean square error =498314.1567275625\n",
      "max_leaf_nodes=20 ,root mean square error =495136.65327607427\n"
     ]
    }
   ],
   "source": [
    "for i in range(2,21):\n",
    "    print(f'max_leaf_nodes={i} ,root mean square error ={mse(i,train_X,test_X,train_y,test_y)}')"
   ]
  },
  {
   "attachments": {
    "Screenshot%20%28126%29.png": {
     "image/png": "[encoded data removed]"
    }
   },
   "cell_type": "markdown",
   "id": "a5f7838e",
   "metadata": {},
   "source": [
    "![Screenshot%20%28126%29.png](attachment:Screenshot%20%28126%29.png)"
   ]
  },
  {
   "cell_type": "markdown",
   "id": "80649c66",
   "metadata": {},
   "source": [
    "So, here i show how  the max_leaf_nodes argument provides a very sensible way to control overfitting vs underfitting. \n",
    "The more leaves we allow the model to make, \n",
    "the more we move from the underfitting area in the above graph to the overfitting area."
   ]
  },
  {
   "cell_type": "code",
   "execution_count": null,
   "id": "19082878",
   "metadata": {},
   "outputs": [],
   "source": []
  }
 ],
 "metadata": {
  "kernelspec": {
   "display_name": "Python 3",
   "language": "python",
   "name": "python3"
  },
  "language_info": {
   "codemirror_mode": {
    "name": "ipython",
    "version": 3
   },
   "file_extension": ".py",
   "mimetype": "text/x-python",
   "name": "python",
   "nbconvert_exporter": "python",
   "pygments_lexer": "ipython3",
   "version": "3.8.8"
  }
 },
 "nbformat": 4,
 "nbformat_minor": 5
}
