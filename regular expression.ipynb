{
 "cells": [
  {
   "cell_type": "code",
   "execution_count": 1,
   "id": "0eee6536",
   "metadata": {},
   "outputs": [],
   "source": [
    "import re\n",
    "text_to_search = '''\n",
    "abcdefghijklmnopqurtuvwxyz\n",
    "ABCDEFGHIJKLMNOPQRSTUVWXYZ\n",
    "1234567890\n",
    "Ha HaHa\n",
    "MetaCharacters (Need to be escaped):\n",
    ". ^ $ * + ? { } [ ] \\ | ( )\n",
    "coreyms.com\n",
    "321-555-4321\n",
    "123.555.1234\n",
    "123*555*1234\n",
    "800-555-1234\n",
    "900-555-1234\n",
    "Mr. Schafer\n",
    "Mr Smith\n",
    "Ms Davis\n",
    "Mrs. Robinson\n",
    "Mr. T\n",
    "bat \n",
    "cat\n",
    "mat\n",
    "pat\n",
    "'''"
   ]
  },
  {
   "cell_type": "code",
   "execution_count": 2,
   "id": "759fb637",
   "metadata": {},
   "outputs": [
    {
     "name": "stdout",
     "output_type": "stream",
     "text": [
      "Mr. Schafer\n",
      "Mr Smith\n",
      "Ms Davis\n",
      "Mrs. Robinson\n",
      "Mr. T\n"
     ]
    }
   ],
   "source": [
    "pattern=re.compile(r'M(r|s|rs)\\.?\\s[A-Za-z]*')\n",
    "matches=pattern.finditer(text_to_search)\n",
    "for match in matches:\n",
    "    print(match[0])"
   ]
  },
  {
   "cell_type": "code",
   "execution_count": 3,
   "id": "f63666a4",
   "metadata": {},
   "outputs": [
    {
     "name": "stdout",
     "output_type": "stream",
     "text": [
      "800-555-1234\n",
      "900-555-1234\n"
     ]
    }
   ],
   "source": [
    "pattern=re.compile(r'[89]00[-.]\\d\\d\\d[-.]\\d\\d\\d\\d')\n",
    "matches=pattern.finditer(text_to_search)\n",
    "for match in matches:\n",
    "    print(match[0])"
   ]
  },
  {
   "cell_type": "code",
   "execution_count": 4,
   "id": "a38fdf93",
   "metadata": {},
   "outputs": [
    {
     "data": {
      "text/plain": [
       "'abc'"
      ]
     },
     "execution_count": 4,
     "metadata": {},
     "output_type": "execute_result"
    }
   ],
   "source": [
    "text_to_search[1:4]"
   ]
  },
  {
   "cell_type": "code",
   "execution_count": 5,
   "id": "4c6d1ffe",
   "metadata": {},
   "outputs": [
    {
     "name": "stdout",
     "output_type": "stream",
     "text": [
      "match telephone are \n",
      "615-555-7164\n",
      "800-555-5669\n",
      "560-555-5153\n",
      "900-555-9340\n",
      "714-555-7405\n",
      "800-555-6771\n",
      "783-555-4799\n",
      "516-555-4615\n",
      "127-555-1867\n",
      "608-555-4938\n",
      "568-555-6051\n",
      "292-555-1875\n",
      "900-555-3205\n",
      "614-555-1166\n",
      "530-555-2676\n",
      "470-555-2750\n",
      "800-555-6089\n",
      "880-555-8319\n",
      "777-555-8378\n",
      "998-555-7385\n",
      "800-555-7100\n",
      "903-555-8277\n",
      "196-555-5674\n",
      "900-555-5118\n",
      "905-555-1630\n",
      "203-555-3475\n",
      "884-555-8444\n",
      "904-555-8559\n",
      "889-555-7393\n",
      "195-555-2405\n",
      "321-555-9053\n",
      "133-555-1711\n",
      "900-555-5428\n",
      "760-555-7147\n",
      "391-555-6621\n",
      "932-555-7724\n",
      "609-555-7908\n",
      "800-555-8810\n",
      "149-555-7657\n",
      "130-555-9709\n",
      "143-555-9295\n",
      "903-555-9878\n",
      "574-555-3194\n",
      "496-555-7533\n",
      "210-555-3757\n",
      "900-555-9598\n",
      "866-555-9844\n",
      "669-555-7159\n",
      "152-555-7417\n",
      "893-555-9832\n",
      "217-555-7123\n",
      "786-555-6544\n",
      "780-555-2574\n",
      "926-555-8735\n",
      "895-555-3539\n",
      "874-555-3949\n",
      "800-555-2420\n",
      "936-555-6340\n",
      "372-555-9809\n",
      "890-555-5618\n",
      "670-555-3005\n",
      "509-555-5997\n",
      "721-555-5632\n",
      "900-555-3567\n",
      "147-555-6830\n",
      "582-555-3426\n",
      "400-555-1706\n",
      "525-555-1793\n",
      "317-555-6700\n",
      "974-555-8301\n",
      "800-555-3216\n",
      "746-555-4094\n",
      "922-555-1773\n",
      "711-555-4427\n",
      "355-555-1872\n",
      "852-555-6521\n",
      "691-555-5773\n",
      "332-555-5441\n",
      "900-555-7755\n",
      "379-555-3685\n",
      "127-555-9682\n",
      "789-555-7032\n",
      "783-555-5135\n",
      "315-555-6507\n",
      "481-555-5835\n",
      "365-555-8287\n",
      "911-555-7535\n",
      "681-555-2460\n",
      "274-555-9800\n",
      "800-555-1372\n",
      "300-555-7821\n",
      "133-555-3889\n",
      "705-555-6863\n",
      "215-555-9449\n",
      "988-555-6112\n",
      "623-555-3006\n",
      "192-555-4977\n",
      "178-555-4899\n",
      "952-555-3089\n",
      "900-555-6426\n"
     ]
    }
   ],
   "source": [
    "pattern=re.compile(r'\\d\\d\\d[-.]\\d\\d\\d[-.]\\d\\d\\d\\d')\n",
    "with open('data.txt','r') as f:\n",
    "    content=f.read()\n",
    "    matches=pattern.finditer(content)\n",
    "    print(f'match telephone are ')\n",
    "    for match in matches:\n",
    "       \n",
    "        print(match[0])\n",
    "    "
   ]
  },
  {
   "cell_type": "code",
   "execution_count": 6,
   "id": "cef5e537",
   "metadata": {},
   "outputs": [
    {
     "name": "stdout",
     "output_type": "stream",
     "text": [
      "cat\n",
      "mat\n",
      "pat\n"
     ]
    }
   ],
   "source": [
    "pattern=re.compile(r'[cmp]at')\n",
    "matches=pattern.finditer(text_to_search)\n",
    "for match in matches:\n",
    "    print(match[0])"
   ]
  },
  {
   "cell_type": "code",
   "execution_count": 7,
   "id": "11a3ab6d",
   "metadata": {},
   "outputs": [
    {
     "name": "stdout",
     "output_type": "stream",
     "text": [
      "321-555-4321\n",
      "123.555.1234\n",
      "800-555-1234\n",
      "900-555-1234\n"
     ]
    }
   ],
   "source": [
    "pattern=re.compile(r'\\d{3}[-.]\\d{3}[-.]\\d{4}')\n",
    "matches=pattern.finditer(text_to_search)\n",
    "for match in matches:\n",
    "    print(match[0])"
   ]
  },
  {
   "cell_type": "code",
   "execution_count": 8,
   "id": "41eb01ee",
   "metadata": {},
   "outputs": [],
   "source": [
    "emails = '''\n",
    "CoreyMSchafer@gmail.com\n",
    "corey.schafer@university.edu\n",
    "corey-321-schafer@my-work.net\n",
    "'''"
   ]
  },
  {
   "cell_type": "code",
   "execution_count": 9,
   "id": "ffb8eddf",
   "metadata": {},
   "outputs": [
    {
     "name": "stdout",
     "output_type": "stream",
     "text": [
      "CoreyMSchafer@gmail.com\n",
      "corey.schafer@university.edu\n",
      "corey-321-schafer@my-work.net\n"
     ]
    }
   ],
   "source": [
    "pattern=re.compile(r'[A-Za-z0-9.-]+@[a-z-]+\\.(com|edu|net)')\n",
    "matches=pattern.finditer(emails)\n",
    "for match in matches:\n",
    "    print(match[0])"
   ]
  },
  {
   "cell_type": "code",
   "execution_count": 10,
   "id": "11f9e7c5",
   "metadata": {},
   "outputs": [],
   "source": [
    "urls = '''\n",
    "https://www.google.com\n",
    "http://coreyms.com\n",
    "https://youtube.com\n",
    "https://www.nasa.gov\n",
    "'''"
   ]
  },
  {
   "cell_type": "code",
   "execution_count": 11,
   "id": "686f3991",
   "metadata": {},
   "outputs": [
    {
     "name": "stdout",
     "output_type": "stream",
     "text": [
      "https://www.google.com\n",
      "http://coreyms.com\n",
      "https://youtube.com\n",
      "https://www.nasa.gov\n"
     ]
    }
   ],
   "source": [
    "pattern=re.compile(r'[a-z]+://\\w+\\.?\\w+\\.\\w+')\n",
    "matches=pattern.finditer(urls)\n",
    "for match in matches:\n",
    "    print(match[0])"
   ]
  },
  {
   "cell_type": "code",
   "execution_count": 12,
   "id": "27c46f09",
   "metadata": {},
   "outputs": [
    {
     "name": "stdout",
     "output_type": "stream",
     "text": [
      "match email id are \n",
      "davemartin@bogusemail.com\n",
      "charlesharris@bogusemail.com\n",
      "laurawilliams@bogusemail.com\n",
      "coreyjefferson@bogusemail.com\n",
      "jenniferwhite@bogusemail.com\n",
      "tomdavis@bogusemail.com\n",
      "neilpatterson@bogusemail.com\n",
      "laurajefferson@bogusemail.com\n",
      "mariajohnson@bogusemail.com\n",
      "michaelarnold@bogusemail.com\n",
      "michaelsmith@bogusemail.com\n",
      "robertstuart@bogusemail.com\n",
      "lauramartin@bogusemail.com\n",
      "barbaramartin@bogusemail.com\n",
      "lindajackson@bogusemail.com\n",
      "stevemiller@bogusemail.com\n",
      "davearnold@bogusemail.com\n",
      "jenniferjacobs@bogusemail.com\n",
      "neilwilson@bogusemail.com\n",
      "kurtjackson@bogusemail.com\n",
      "maryjacobs@bogusemail.com\n",
      "michaelwhite@bogusemail.com\n",
      "jenniferjenkins@bogusemail.com\n",
      "samwright@bogusemail.com\n",
      "johndavis@bogusemail.com\n",
      "neildavis@bogusemail.com\n",
      "laurajackson@bogusemail.com\n",
      "johnwilliams@bogusemail.com\n",
      "michaelmartin@bogusemail.com\n",
      "maggiebrown@bogusemail.com\n",
      "kurtwilson@bogusemail.com\n",
      "elizabetharnold@bogusemail.com\n",
      "janemartin@bogusemail.com\n",
      "travisjohnson@bogusemail.com\n",
      "laurajefferson@bogusemail.com\n",
      "tomwilliams@bogusemail.com\n",
      "jennifertaylor@bogusemail.com\n",
      "jenniferwright@bogusemail.com\n",
      "stevedoe@bogusemail.com\n",
      "kurtdavis@bogusemail.com\n",
      "coreyharris@bogusemail.com\n",
      "nicoletaylor@bogusemail.com\n",
      "elizabethdavis@bogusemail.com\n",
      "maggiejenkins@bogusemail.com\n",
      "lindadavis@bogusemail.com\n",
      "davemoore@bogusemail.com\n",
      "lindajenkins@bogusemail.com\n",
      "samwhite@bogusemail.com\n",
      "laurarobinson@bogusemail.com\n",
      "charlespatterson@bogusemail.com\n",
      "joejackson@bogusemail.com\n",
      "michaeljohnson@bogusemail.com\n",
      "coreymiller@bogusemail.com\n",
      "jamesmoore@bogusemail.com\n",
      "jenniferstuart@bogusemail.com\n",
      "charlesmartin@bogusemail.com\n",
      "joewilks@bogusemail.com\n",
      "elizabetharnold@bogusemail.com\n",
      "johnmiller@bogusemail.com\n",
      "coreyjackson@bogusemail.com\n",
      "samthomas@bogusemail.com\n",
      "patriciathomas@bogusemail.com\n",
      "jenniferdavis@bogusemail.com\n",
      "patriciabrown@bogusemail.com\n",
      "barbarawilliams@bogusemail.com\n",
      "jamestaylor@bogusemail.com\n",
      "barbaraharris@bogusemail.com\n",
      "travisanderson@bogusemail.com\n",
      "samrobinson@bogusemail.com\n",
      "steverobinson@bogusemail.com\n",
      "marywilson@bogusemail.com\n",
      "samwilson@bogusemail.com\n",
      "charlesjones@bogusemail.com\n",
      "laurabrown@bogusemail.com\n",
      "tomharris@bogusemail.com\n",
      "patriciataylor@bogusemail.com\n",
      "barbarawilliams@bogusemail.com\n",
      "maggiejohnson@bogusemail.com\n",
      "kurtmiller@bogusemail.com\n",
      "neilstuart@bogusemail.com\n",
      "lindapatterson@bogusemail.com\n",
      "charlesdavis@bogusemail.com\n",
      "jenniferjefferson@bogusemail.com\n",
      "coreytaylor@bogusemail.com\n",
      "robertwilks@bogusemail.com\n",
      "travisjackson@bogusemail.com\n",
      "travisjackson@bogusemail.com\n",
      "laurawilks@bogusemail.com\n",
      "neilarnold@bogusemail.com\n",
      "lindajohnson@bogusemail.com\n",
      "jenniferwilson@bogusemail.com\n",
      "nicolewhite@bogusemail.com\n",
      "mariaarnold@bogusemail.com\n",
      "jenniferdavis@bogusemail.com\n",
      "marypatterson@bogusemail.com\n",
      "janestuart@bogusemail.com\n",
      "robertdavis@bogusemail.com\n",
      "jamestaylor@bogusemail.com\n",
      "johnstuart@bogusemail.com\n",
      "charlesmiller@bogusemail.com\n"
     ]
    }
   ],
   "source": [
    "pattern=re.compile(r'\\w+@\\w+\\.\\w+')\n",
    "with open('data.txt','r') as f:\n",
    "    content=f.read()\n",
    "    matches=pattern.finditer(content)\n",
    "    print(f'match email id are ')\n",
    "    for match in matches:\n",
    "       \n",
    "        print(match[0])\n",
    "    "
   ]
  },
  {
   "cell_type": "code",
   "execution_count": 13,
   "id": "71040353",
   "metadata": {},
   "outputs": [
    {
     "name": "stdout",
     "output_type": "stream",
     "text": [
      "match email id are \n",
      "173 Main St., Springfield RI 55924\n",
      "969 High St., Atlantis VA 34075\n",
      "806 1st St., Faketown AK 86847\n",
      "826 Elm St., Epicburg NE 10671\n",
      "212 Cedar St., Sunnydale CT 74983\n",
      "519 Washington St., Olympus TN 32425\n",
      "625 Oak St., Dawnstar IL 61914\n",
      "890 Main St., Pythonville LA 29947\n",
      "249 Elm St., Quahog OR 90938\n",
      "619 Park St., Winterfell VA 99000\n",
      "220 Cedar St., Lakeview NY 87282\n",
      "391 High St., Smalltown WY 28362\n",
      "433 Elm St., Westworld TX 61967\n",
      "838 Main St., Balmora MT 56526\n",
      "732 High St., Valyria KY 97152\n",
      "191 Main St., Mordor IL 72160\n",
      "607 Washington St., Blackwater NH 97183\n",
      "478 Oak St., Bedrock IA 58176\n",
      "906 Elm St., Mordor TX 89212\n",
      "949 Main St., Smalltown SC 96962\n",
      "835 Pearl St., Smalltown ND 77737\n",
      "451 Lake St., Bedrock GA 34615\n",
      "419 Lake St., Balmora OR 30826\n",
      "443 Maple St., Quahog MS 29348\n",
      "756 Hill St., Valyria KY 94854\n",
      "216 High St., Olympus NV 21888\n",
      "806 Lake St., Lakeview MD 59348\n",
      "354 Hill St., Mordor FL 74122\n",
      "805 Maple St., Winterfell NV 99431\n",
      "418 Park St., Metropolis ID 16576\n",
      "122 High St., Metropolis ME 29540\n",
      "332 Main St., Pythonville OH 78172\n",
      "858 Hill St., Blackwater NC 79714\n",
      "441 Elm St., Atlantis MS 87195\n",
      "404 Oak St., Atlantis ND 85386\n",
      "151 Lake St., Eerie SD 17880\n",
      "504 Lake St., Gotham PA 46692\n",
      "117 High St., Bedrock NE 11899\n",
      "650 Oak St., Smalltown TN 43281\n",
      "377 Pine St., Valyria NC 78036\n",
      "416 Pearl St., Valyria AK 62260\n",
      "288 Hill St., Smalltown AZ 18586\n",
      "286 High St., Springfield IA 16272\n",
      "278 Main St., Gotham KY 89569\n",
      "775 High St., Faketown PA 89260\n",
      "885 Main St., Blackwater OH 61275\n",
      "528 Hill St., Atlantis NH 88289\n",
      "117 Cedar St., Thundera NM 75205\n",
      "115 Oak St., Gotham UT 36433\n",
      "743 Lake St., Springfield MS 25473\n",
      "381 Hill St., Blackwater CT 30958\n",
      "125 Main St., Smalltown MT 62155\n",
      "292 Hill St., Gotham WV 57680\n",
      "514 Park St., Balmora NV 55462\n",
      "776 Hill St., Dawnstar MA 51312\n",
      "421 Elm St., Smalltown NV 72025\n",
      "937 Cedar St., Thundera WA 78862\n",
      "417 Pine St., Lakeview MD 13147\n",
      "478 Park St., Springfield NM 92369\n",
      "557 Pearl St., Westworld KS 23225\n",
      "855 Hill St., Olympus HI 81427\n",
      "980 Maple St., Smalltown MO 96421\n",
      "676 Hill St., Blackwater AR 96698\n",
      "588 Pine St., Olympus FL 98412\n",
      "351 Elm St., Sunnydale GA 26245\n",
      "948 Cedar St., Quahog DE 56449\n",
      "381 Hill St., Quahog AL 97503\n",
      "496 Cedar St., Sunnydale RI 49113\n",
      "736 Cedar St., Lakeview KY 47472\n",
      "678 Lake St., Mordor MN 11845\n",
      "289 Park St., Sunnydale WA 74526\n",
      "245 Washington St., Bedrock IL 26941\n",
      "573 Elm St., Sunnydale IL 47182\n",
      "851 Lake St., Metropolis PA 22772\n",
      "489 Oak St., Atlantis HI 73725\n",
      "371 Pearl St., Smalltown SC 47466\n",
      "504 Oak St., Faketown PA 73860\n",
      "667 High St., Balmora IN 82473\n",
      "266 Pine St., Westworld DC 58720\n",
      "491 Elm St., Metropolis PA 31836\n",
      "956 Park St., Valyria CT 81541\n",
      "789 Maple St., Mordor IN 22215\n",
      "439 Hill St., Olympus NV 39308\n",
      "207 Washington St., Blackwater MA 24886\n"
     ]
    }
   ],
   "source": [
    "pattern=re.compile(r'\\d{3}\\s\\w+\\s\\w+\\.\\W\\s\\w+\\s\\w+\\s\\d{5}')\n",
    "with open('data.txt','r') as f:\n",
    "    content=f.read()\n",
    "    matches=pattern.finditer(content)\n",
    "    print(f'match email id are ')\n",
    "    for match in matches:\n",
    "       \n",
    "        print(match[0])\n",
    "    "
   ]
  },
  {
   "cell_type": "code",
   "execution_count": null,
   "id": "75ff3944",
   "metadata": {},
   "outputs": [],
   "source": []
  },
  {
   "cell_type": "code",
   "execution_count": 14,
   "id": "0b0ccb72",
   "metadata": {},
   "outputs": [
    {
     "name": "stdout",
     "output_type": "stream",
     "text": [
      "match email id are \n",
      "173 Main St., Springfield RI 55924\n",
      "969 High St., Atlantis VA 34075\n",
      "806 1st St., Faketown AK 86847\n",
      "826 Elm St., Epicburg NE 10671\n",
      "212 Cedar St., Sunnydale CT 74983\n",
      "519 Washington St., Olympus TN 32425\n",
      "625 Oak St., Dawnstar IL 61914\n",
      "890 Main St., Pythonville LA 29947\n",
      "249 Elm St., Quahog OR 90938\n",
      "619 Park St., Winterfell VA 99000\n",
      "220 Cedar St., Lakeview NY 87282\n",
      "391 High St., Smalltown WY 28362\n",
      "433 Elm St., Westworld TX 61967\n",
      "838 Main St., Balmora MT 56526\n",
      "732 High St., Valyria KY 97152\n",
      "191 Main St., Mordor IL 72160\n",
      "607 Washington St., Blackwater NH 97183\n",
      "478 Oak St., Bedrock IA 58176\n",
      "906 Elm St., Mordor TX 89212\n",
      "949 Main St., Smalltown SC 96962\n",
      "835 Pearl St., Smalltown ND 77737\n",
      "451 Lake St., Bedrock GA 34615\n",
      "419 Lake St., Balmora OR 30826\n",
      "443 Maple St., Quahog MS 29348\n",
      "756 Hill St., Valyria KY 94854\n",
      "216 High St., Olympus NV 21888\n",
      "806 Lake St., Lakeview MD 59348\n",
      "354 Hill St., Mordor FL 74122\n",
      "805 Maple St., Winterfell NV 99431\n",
      "418 Park St., Metropolis ID 16576\n",
      "122 High St., Metropolis ME 29540\n",
      "332 Main St., Pythonville OH 78172\n",
      "858 Hill St., Blackwater NC 79714\n",
      "441 Elm St., Atlantis MS 87195\n",
      "404 Oak St., Atlantis ND 85386\n",
      "151 Lake St., Eerie SD 17880\n",
      "504 Lake St., Gotham PA 46692\n",
      "117 High St., Bedrock NE 11899\n",
      "650 Oak St., Smalltown TN 43281\n",
      "377 Pine St., Valyria NC 78036\n",
      "416 Pearl St., Valyria AK 62260\n",
      "288 Hill St., Smalltown AZ 18586\n",
      "286 High St., Springfield IA 16272\n",
      "278 Main St., Gotham KY 89569\n",
      "775 High St., Faketown PA 89260\n",
      "885 Main St., Blackwater OH 61275\n",
      "528 Hill St., Atlantis NH 88289\n",
      "117 Cedar St., Thundera NM 75205\n",
      "115 Oak St., Gotham UT 36433\n",
      "743 Lake St., Springfield MS 25473\n",
      "381 Hill St., Blackwater CT 30958\n",
      "125 Main St., Smalltown MT 62155\n",
      "292 Hill St., Gotham WV 57680\n",
      "514 Park St., Balmora NV 55462\n",
      "776 Hill St., Dawnstar MA 51312\n",
      "421 Elm St., Smalltown NV 72025\n",
      "937 Cedar St., Thundera WA 78862\n",
      "417 Pine St., Lakeview MD 13147\n",
      "478 Park St., Springfield NM 92369\n",
      "557 Pearl St., Westworld KS 23225\n",
      "855 Hill St., Olympus HI 81427\n",
      "980 Maple St., Smalltown MO 96421\n",
      "676 Hill St., Blackwater AR 96698\n",
      "588 Pine St., Olympus FL 98412\n",
      "351 Elm St., Sunnydale GA 26245\n",
      "948 Cedar St., Quahog DE 56449\n",
      "381 Hill St., Quahog AL 97503\n",
      "496 Cedar St., Sunnydale RI 49113\n",
      "736 Cedar St., Lakeview KY 47472\n",
      "678 Lake St., Mordor MN 11845\n",
      "289 Park St., Sunnydale WA 74526\n",
      "245 Washington St., Bedrock IL 26941\n",
      "573 Elm St., Sunnydale IL 47182\n",
      "851 Lake St., Metropolis PA 22772\n",
      "489 Oak St., Atlantis HI 73725\n",
      "371 Pearl St., Smalltown SC 47466\n",
      "504 Oak St., Faketown PA 73860\n",
      "667 High St., Balmora IN 82473\n",
      "266 Pine St., Westworld DC 58720\n",
      "491 Elm St., Metropolis PA 31836\n",
      "956 Park St., Valyria CT 81541\n",
      "789 Maple St., Mordor IN 22215\n",
      "439 Hill St., Olympus NV 39308\n",
      "207 Washington St., Blackwater MA 24886\n"
     ]
    }
   ],
   "source": [
    "pattern=re.compile(r'\\d{3}\\s\\w+\\s\\w+\\.\\W\\s\\w+\\s\\w+\\s\\d{5}')\n",
    "with open('data.txt','r') as f:\n",
    "    content=f.read()\n",
    "    matches=pattern.finditer(content)\n",
    "    print(f'match email id are ')\n",
    "    for match in matches:\n",
    "       \n",
    "        print(match[0])\n",
    "    "
   ]
  },
  {
   "cell_type": "code",
   "execution_count": 22,
   "id": "1325b6e7",
   "metadata": {},
   "outputs": [
    {
     "name": "stdout",
     "output_type": "stream",
     "text": [
      "match email id are \n",
      "Dave Martin\n",
      "\n",
      "Springfield RI \n",
      "Charles Harris\n",
      "\n",
      "Atlantis VA \n",
      "Eric Williams\n",
      "\n",
      "Faketown AK \n",
      "Corey Jefferson\n",
      "\n",
      "Epicburg NE \n",
      "Sunnydale CT \n",
      "Erick Davis\n",
      "\n",
      "Olympus TN \n",
      "Neil Patterson\n",
      "\n",
      "Dawnstar IL \n",
      "Laura Jefferson\n",
      "\n",
      "Pythonville LA \n",
      "Maria Johnson\n",
      "\n",
      "Michael Arnold\n",
      "\n",
      "Quahog OR \n",
      "Michael Smith\n",
      "\n",
      "Winterfell VA \n",
      "Erik Stuart\n",
      "\n",
      "Lakeview NY \n",
      "Laura Martin\n",
      "\n",
      "Smalltown WY \n",
      "Barbara Martin\n",
      "\n",
      "Linda Jackson\n",
      "\n",
      "Westworld TX \n",
      "Eric Miller\n",
      "\n",
      "Balmora MT \n",
      "Dave Arnold\n",
      "\n",
      "Valyria KY \n",
      "Jennifer Jacobs\n",
      "\n",
      "Old-town IA \n",
      "Neil Wilson\n",
      "\n",
      "Mordor IL \n",
      "Kurt Jackson\n",
      "\n",
      "Blackwater NH \n",
      "Mary Jacobs\n",
      "\n",
      "Bedrock IA \n",
      "Michael White\n",
      "\n",
      "Mordor TX \n",
      "Jennifer Jenkins\n",
      "\n",
      "Smalltown SC \n",
      "Sam Wright\n",
      "\n",
      "Smalltown ND \n",
      "John Davis\n",
      "\n",
      "Bedrock GA \n",
      "Eric Davis\n",
      "\n",
      "Balmora OR \n",
      "Laura Jackson\n",
      "\n",
      "Quahog MS \n",
      "John Williams\n",
      "\n",
      "Valyria KY \n",
      "Michael Martin\n",
      "\n",
      "Olympus NV \n",
      "Maggie Brown\n",
      "\n",
      "Lakeview MD \n",
      "Erik Wilson\n",
      "\n",
      "Mordor FL \n",
      "Elizabeth Arnold\n",
      "\n",
      "Winterfell NV \n",
      "Jane Martin\n",
      "\n",
      "Metropolis ID \n",
      "Travis Johnson\n",
      "\n",
      "Laura Jefferson\n",
      "\n",
      "Metropolis ME \n",
      "Tom Williams\n",
      "\n",
      "Old-town FL \n",
      "Jennifer Taylor\n",
      "\n",
      "Pythonville OH \n",
      "Erick Wright\n",
      "\n",
      "Blackwater NC \n",
      "Steve Doe\n",
      "\n",
      "Atlantis MS \n",
      "Kurt Davis\n",
      "\n",
      "Atlantis ND \n",
      "Corey Harris\n",
      "\n",
      "Vice City \n",
      "Nicole Taylor\n",
      "\n",
      "Old-town LA \n",
      "Elizabeth Davis\n",
      "\n",
      "Eerie SD \n",
      "Maggie Jenkins\n",
      "\n",
      "Gotham PA \n",
      "Linda Davis\n",
      "\n",
      "Vice City \n",
      "Dave Moore\n",
      "\n",
      "Old-town OK \n",
      "Linda Jenkins\n",
      "\n",
      "Bedrock NE \n",
      "Eric White\n",
      "\n",
      "Smalltown TN \n",
      "Laura Robinson\n",
      "\n",
      "Valyria NC \n",
      "Charles Patterson\n",
      "\n",
      "Valyria AK \n",
      "Joe Jackson\n",
      "\n",
      "South Park \n",
      "Michael Johnson\n",
      "\n",
      "Smalltown AZ \n",
      "Corey Miller\n",
      "\n",
      "Springfield IA \n",
      "James Moore\n",
      "\n",
      "Gotham KY \n",
      "Jennifer Stuart\n",
      "\n",
      "s Landing \n",
      "Charles Martin\n",
      "\n",
      "Faketown PA \n",
      "Eric Wilks\n",
      "\n",
      "Blackwater OH \n",
      "Elizabeth Arnold\n",
      "\n",
      "Atlantis NH \n",
      "John Miller\n",
      "\n",
      "Thundera NM \n",
      "Corey Jackson\n",
      "\n",
      "Gotham UT \n",
      "Sam Thomas\n",
      "\n",
      "Springfield MS \n",
      "Patricia Thomas\n",
      "\n",
      "Blackwater CT \n",
      "Jennifer Davis\n",
      "\n",
      "Smalltown MT \n",
      "Patricia Brown\n",
      "\n",
      "Gotham WV \n",
      "Barbara Williams\n",
      "\n",
      "Balmora NV \n",
      "James Taylor\n",
      "\n",
      "Dawnstar MA \n",
      "Eric Harris\n",
      "\n",
      "Smalltown NV \n",
      "Travis Anderson\n",
      "\n",
      "Thundera WA \n",
      "Sam Robinson\n",
      "\n",
      "Lakeview MD \n",
      "Steve Robinson\n",
      "\n",
      "Springfield NM \n",
      "Mary Wilson\n",
      "\n",
      "Sam Wilson\n",
      "\n",
      "Westworld KS \n",
      "Charles Jones\n",
      "\n",
      "Olympus HI \n",
      "Laura Brown\n",
      "\n",
      "Smalltown MO \n",
      "Tom Harris\n",
      "\n",
      "Blackwater AR \n",
      "Patricia Taylor\n",
      "\n",
      "Olympus FL \n",
      "Barbara Williams\n",
      "\n",
      "Sunnydale GA \n",
      "Maggie Johnson\n",
      "\n",
      "Quahog DE \n",
      "Kurt Miller\n",
      "\n",
      "Quahog AL \n",
      "Neil Stuart\n",
      "\n",
      "Sunnydale RI \n",
      "Linda Patterson\n",
      "\n",
      "Lakeview KY \n",
      "Charles Davis\n",
      "\n",
      "Mordor MN \n",
      "Jennifer Jefferson\n",
      "\n",
      "Sunnydale WA \n",
      "Erick Taylor\n",
      "\n",
      "Bedrock IL \n",
      "Robert Wilks\n",
      "\n",
      "Sunnydale IL \n",
      "Travis Jackson\n",
      "\n",
      "Metropolis PA \n",
      "Travis Jackson\n",
      "\n",
      "Atlantis HI \n",
      "Laura Wilks\n",
      "\n",
      "Smalltown SC \n",
      "Neil Arnold\n",
      "\n",
      "Faketown PA \n",
      "Linda Johnson\n",
      "\n",
      "Balmora IN \n",
      "Jennifer Wilson\n",
      "\n",
      "Westworld DC \n",
      "Nicole White\n",
      "\n",
      "Maria Arnold\n",
      "\n",
      "Metropolis PA \n",
      "Jennifer Davis\n",
      "\n",
      "Old-town MT \n",
      "Mary Patterson\n",
      "\n",
      "Valyria CT \n",
      "Jane Stuart\n",
      "\n",
      "Old-town RI \n",
      "Robert Davis\n",
      "\n",
      "Mordor IN \n",
      "James Taylor\n",
      "\n",
      "Olympus NV \n",
      "Eric Stuart\n",
      "\n",
      "s Landing \n",
      "Charles Miller\n",
      "\n",
      "Blackwater MA \n"
     ]
    }
   ],
   "source": [
    "pattern=re.compile(r'[a-zA-Z-]+\\s[a-zA-Z?]+\\s')\n",
    "with open('data.txt','r') as f:\n",
    "    content=f.read()\n",
    "    matches=pattern.finditer(content)\n",
    "    print(f'match email id are ')\n",
    "    for match in matches:\n",
    "       \n",
    "        print(match[0])\n",
    "    "
   ]
  },
  {
   "cell_type": "code",
   "execution_count": null,
   "id": "0c0104bd",
   "metadata": {},
   "outputs": [],
   "source": []
  },
  {
   "cell_type": "code",
   "execution_count": null,
   "id": "aaf6806f",
   "metadata": {},
   "outputs": [],
   "source": [
    "Charles Harris"
   ]
  },
  {
   "cell_type": "code",
   "execution_count": null,
   "id": "9546f5b2",
   "metadata": {},
   "outputs": [],
   "source": []
  },
  {
   "cell_type": "code",
   "execution_count": 1,
   "id": "49b2c5ab",
   "metadata": {},
   "outputs": [],
   "source": [
    "import re"
   ]
  },
  {
   "cell_type": "code",
   "execution_count": 23,
   "id": "20a60347",
   "metadata": {},
   "outputs": [],
   "source": [
    "txt=\"\"\"ethichs are built on the idesa and objectve of unite nations #UNSG @UN  society for woman and and man\n",
    "etheicl culture  https://bit.ly @UN_men, @UN_woman\"\"\""
   ]
  },
  {
   "cell_type": "code",
   "execution_count": null,
   "id": "97169b41",
   "metadata": {},
   "outputs": [],
   "source": []
  },
  {
   "cell_type": "code",
   "execution_count": 6,
   "id": "d49aaef6",
   "metadata": {},
   "outputs": [
    {
     "data": {
      "text/plain": [
       "['@']"
      ]
     },
     "execution_count": 6,
     "metadata": {},
     "output_type": "execute_result"
    }
   ],
   "source": [
    "tweet = \"@nltk Text analysis is awesome! #regex #pandas #python\"\n",
    "[w for w in tweet if w.startswith('@')]"
   ]
  },
  {
   "cell_type": "code",
   "execution_count": 30,
   "id": "3ddcb9f2",
   "metadata": {},
   "outputs": [
    {
     "data": {
      "text/plain": [
       "[]"
      ]
     },
     "execution_count": 30,
     "metadata": {},
     "output_type": "execute_result"
    }
   ],
   "source": [
    "import re\n",
    "[w for w in tweet if re.search(r'@[A-Za-z0-9_]+',w)]"
   ]
  },
  {
   "cell_type": "code",
   "execution_count": 31,
   "id": "044e86cc",
   "metadata": {},
   "outputs": [],
   "source": [
    "tweet = \"@nltk Text analysis is awesome! #regex #pandas #python\""
   ]
  },
  {
   "cell_type": "code",
   "execution_count": 33,
   "id": "c3b3d8cf",
   "metadata": {},
   "outputs": [
    {
     "data": {
      "text/plain": [
       "['o', 'u', 'a', 'a', 'o', 'u']"
      ]
     },
     "execution_count": 33,
     "metadata": {},
     "output_type": "execute_result"
    }
   ],
   "source": [
    "text1='ouadagou'\n",
    "re.findall(r'[aeiou]' ,text1)"
   ]
  },
  {
   "cell_type": "code",
   "execution_count": 40,
   "id": "30663831",
   "metadata": {},
   "outputs": [
    {
     "data": {
      "text/plain": [
       "<re.Match object; span=(134, 141), match='@UN_men'>"
      ]
     },
     "execution_count": 40,
     "metadata": {},
     "output_type": "execute_result"
    }
   ],
   "source": [
    "re.search(r'@[A-Z]+_\\w+',txt)"
   ]
  },
  {
   "cell_type": "code",
   "execution_count": 44,
   "id": "ec8ff628",
   "metadata": {},
   "outputs": [],
   "source": [
    "pattern=re.compile(r'@[A-Z]+_\\w+')\n",
    "matches=pattern.finditer(txt)\n",
    "for match in matches:\n",
    "    print(match[0])"
   ]
  },
  {
   "cell_type": "code",
   "execution_count": 45,
   "id": "ffc3d10a",
   "metadata": {},
   "outputs": [],
   "source": [
    "txt=\"\"\"\n",
    "23-10-2020\n",
    "23/10/2020\n",
    "23/10/20\n",
    "23 oct 2020\n",
    "23 october 2020\n",
    "october 23,2020\n",
    "\"\"\""
   ]
  },
  {
   "cell_type": "code",
   "execution_count": 1,
   "id": "3b392739",
   "metadata": {},
   "outputs": [
    {
     "ename": "NameError",
     "evalue": "name 're' is not defined",
     "output_type": "error",
     "traceback": [
      "\u001b[1;31m---------------------------------------------------------------------------\u001b[0m",
      "\u001b[1;31mNameError\u001b[0m                                 Traceback (most recent call last)",
      "\u001b[1;32m<ipython-input-1-8e4f808b4e23>\u001b[0m in \u001b[0;36m<module>\u001b[1;34m\u001b[0m\n\u001b[1;32m----> 1\u001b[1;33m \u001b[0mpattern\u001b[0m\u001b[1;33m=\u001b[0m\u001b[0mre\u001b[0m\u001b[1;33m.\u001b[0m\u001b[0mcompile\u001b[0m\u001b[1;33m(\u001b[0m\u001b[1;34mr'[\\w]+[-/\\s][a-z0-9]+[-/\\s]\\d{2,4}'\u001b[0m\u001b[1;33m)\u001b[0m\u001b[1;33m\u001b[0m\u001b[1;33m\u001b[0m\u001b[0m\n\u001b[0m\u001b[0;32m      2\u001b[0m \u001b[0mmatches\u001b[0m\u001b[1;33m=\u001b[0m\u001b[0mpattern\u001b[0m\u001b[1;33m.\u001b[0m\u001b[0mfinditer\u001b[0m\u001b[1;33m(\u001b[0m\u001b[0mtxt\u001b[0m\u001b[1;33m)\u001b[0m\u001b[1;33m\u001b[0m\u001b[1;33m\u001b[0m\u001b[0m\n\u001b[0;32m      3\u001b[0m \u001b[1;32mfor\u001b[0m \u001b[0mmatch\u001b[0m \u001b[1;32min\u001b[0m \u001b[0mmatches\u001b[0m\u001b[1;33m:\u001b[0m\u001b[1;33m\u001b[0m\u001b[1;33m\u001b[0m\u001b[0m\n\u001b[0;32m      4\u001b[0m     \u001b[0mprint\u001b[0m\u001b[1;33m(\u001b[0m\u001b[0mmatch\u001b[0m\u001b[1;33m[\u001b[0m\u001b[1;36m0\u001b[0m\u001b[1;33m]\u001b[0m\u001b[1;33m)\u001b[0m\u001b[1;33m\u001b[0m\u001b[1;33m\u001b[0m\u001b[0m\n",
      "\u001b[1;31mNameError\u001b[0m: name 're' is not defined"
     ]
    }
   ],
   "source": [
    "pattern=re.compile(r'[\\w]+[-/\\s][a-z0-9]+[-/\\s]\\d{2,4}')\n",
    "matches=pattern.finditer(txt)\n",
    "for match in matches:\n",
    "    print(match[0])"
   ]
  },
  {
   "cell_type": "code",
   "execution_count": 1,
   "id": "eadc9912",
   "metadata": {},
   "outputs": [
    {
     "name": "stdout",
     "output_type": "stream",
     "text": [
      "Olympic games have been cancelled\n",
      "Dr Vikram Sarabhai was the ISRO first chairman\n",
      "Dr Abdul Kalam the father of India missile programme\n"
     ]
    }
   ],
   "source": [
    "# Python implementation of Substitution using\n",
    "# shorthand character class and preprocessing of text\n",
    "\n",
    "# importing regex module\n",
    "import re\n",
    "\n",
    "# Function to perform\n",
    "# operations on the strings\n",
    "def substitutor():\n",
    "\t\n",
    "\t# list of strings\n",
    "\tS = [\"2020 Olympic games have @# been cancelled\",\n",
    "\t\"Dr Vikram Sarabhai was +%--the ISRO’s first chairman\",\n",
    "\t\"Dr Abdul\t\t Kalam, the father\t of India's missile programme\"]\n",
    "\t\n",
    "\t# loop to iterate every element of list\n",
    "\tfor i in range(len(S)):\n",
    "\t\t\n",
    "\t\t# replacing every non-word character with a white space\n",
    "\t\tS[i] = re.sub(r\"\\W\", \" \", S[i])\n",
    "\t\t\n",
    "\t\t# replacing every digit character with a white space\n",
    "\t\tS[i] = re.sub(r\"\\d\", \" \", S[i])\n",
    "\t\t\n",
    "\t\t# replacing one or more white space with a single white space\n",
    "\t\tS[i] = re.sub(r\"\\s+\", \" \", S[i])\n",
    "\t\t\n",
    "\t\t# replacing alphabetic characters which have one or more\n",
    "\t\t# white space before and after them with a white space\n",
    "\t\tS[i] = re.sub(r\"\\s+[a-z]\\s+\", \" \", S[i], flags = re.I)\n",
    "\t\t\n",
    "\t\t# substituting one or more white space which is at\n",
    "\t\t# beginning of the string with an empty string\n",
    "\t\tS[i] = re.sub(r\"^\\s+\", \"\", S[i])\n",
    "\t\t\n",
    "\t\t# substituting one or more white space which is at\n",
    "\t\t# end of the string with an empty string\n",
    "\t\tS[i] = re.sub(r\"\\s+$\", \"\", S[i])\n",
    "\t\n",
    "\t# loop to iterate every element of list\n",
    "\tfor i in range(len(S)):\n",
    "\t\t\n",
    "\t\t# printing each modified string\n",
    "\t\tprint(S[i])\n",
    "\t\n",
    "# Driver Code:\n",
    "substitutor()\t\n"
   ]
  },
  {
   "cell_type": "code",
   "execution_count": 75,
   "id": "3d4f4535",
   "metadata": {},
   "outputs": [],
   "source": [
    "S = [\"2020 Olympic games have @# been cancelled\",\n",
    "   \"Dr   Vikram Sarabhai was +%--the ISRO’s first chairman\",\n",
    "\"Dr Abdul   Kalam, the father of India's missile programme\"]"
   ]
  },
  {
   "cell_type": "code",
   "execution_count": 38,
   "id": "43b055a5",
   "metadata": {},
   "outputs": [
    {
     "name": "stdout",
     "output_type": "stream",
     "text": [
      "Olympic games have been cancelled\n",
      "Dr Vikram Sarabhai was the ISRO first chairman\n",
      "Dr Abdul Kalam the father of India missile programme\n"
     ]
    }
   ],
   "source": [
    "for i in  range(len(S)):\n",
    "    S[i] = re.sub(r\"\\W\", \" \", S[i])\n",
    "    S[i] = re.sub(r\" +\", \" \", S[i])\n",
    "    S[i] = re.sub(r\"\\d+\", \" \", S[i])\n",
    "    S[i] = re.sub(r\"\\W\", \" \", S[i])\n",
    "    S[i] = re.sub(r\"^\\s+\", \"\", S[i])\n",
    "    S[i] = re.sub(r\"\\s+$\", \"\", S[i])\n",
    "    S[i] = re.sub(r\"\\s+[a-z]\\s+\", \" \", S[i])\n",
    "   \n",
    "for i in range(len(S)):\n",
    "    print(S[i])"
   ]
  },
  {
   "cell_type": "code",
   "execution_count": 54,
   "id": "11a8343a",
   "metadata": {},
   "outputs": [],
   "source": [
    "def fxn(S):\n",
    "    for i in  range(len(S)):\n",
    "        S[i] = re.sub(r\"\\W\", \" \", S[i])\n",
    "        S[i] = re.sub(r\"\\s+\", \" \", S[i])\n",
    "        S[i] = re.sub(r\"\\d+\", \" \", S[i])\n",
    "        S[i] = re.sub(r\"\\W\", \" \", S[i])\n",
    "        S[i] = re.sub(r\"^\\s+\", \"\", S[i])\n",
    "        S[i] = re.sub(r\"\\s+$\", \"\", S[i])\n",
    "        #S[i] = re.sub(r\"\\s+[a-z]\\s+\", \" \", S[i])\n",
    "    for i in range(len(S)):\n",
    "        print(S[i])"
   ]
  },
  {
   "cell_type": "code",
   "execution_count": 55,
   "id": "988902c2",
   "metadata": {},
   "outputs": [
    {
     "name": "stdout",
     "output_type": "stream",
     "text": [
      "Olympic games have been cancelled\n",
      "Dr Vikram Sarabhai was the ISRO s first chairman\n",
      "Dr Abdul Kalam the father of India s missile programme\n"
     ]
    }
   ],
   "source": [
    "fxn(S)"
   ]
  },
  {
   "cell_type": "code",
   "execution_count": 58,
   "id": "595da68c",
   "metadata": {},
   "outputs": [
    {
     "data": {
      "text/plain": [
       "['2020 Olympic games have @# been cancelled',\n",
       " 'Dr   Vikram Sarabhai was +%--the ISRO’s first chairman',\n",
       " \"Dr Abdul   Kalam, the father of India's missile programme\"]"
      ]
     },
     "execution_count": 58,
     "metadata": {},
     "output_type": "execute_result"
    }
   ],
   "source": [
    "S"
   ]
  },
  {
   "cell_type": "code",
   "execution_count": 76,
   "id": "d88cee4a",
   "metadata": {},
   "outputs": [
    {
     "name": "stdout",
     "output_type": "stream",
     "text": [
      "Olympic games have been cancelled\n",
      "Dr Vikram Sarabhai was the ISRO first chairman\n",
      "Dr Abdul Kalam the father of India missile programme\n"
     ]
    }
   ],
   "source": [
    "for i in range(len(S)):\n",
    "    S[i]=re.sub(r'\\d+','',S[i])\n",
    "   \n",
    "    S[i]=re.sub(r'\\W+',' ',S[i])\n",
    "    S[i]=re.sub(r'^\\s+','',S[i])\n",
    "    S[i]=re.sub(r'\\s+[a-z]\\s+',' ',S[i])\n",
    "for i in range(len(S)):\n",
    "    print(S[i])"
   ]
  },
  {
   "cell_type": "code",
   "execution_count": null,
   "id": "d6897a4c",
   "metadata": {},
   "outputs": [],
   "source": [
    "S = [\"2020 Olympic games have @# been cancelled\",\n",
    "\"Dr Vikram Sarabhai was +%--the ISRO’s first chairman\",\n",
    "\"Dr Abdul Kalam, the father of India's missile programme\"]"
   ]
  },
  {
   "cell_type": "code",
   "execution_count": 11,
   "id": "53fbd9b4",
   "metadata": {},
   "outputs": [
    {
     "data": {
      "text/plain": [
       "'22 00000 00 0000000000 00 00000 000.'"
      ]
     },
     "execution_count": 11,
     "metadata": {},
     "output_type": "execute_result"
    }
   ],
   "source": [
    "import re\n",
    "sentence = \"22 April is celebrated as Earth Day.\"\n",
    "re.sub(r'[a-z]','0',sentence,flags=re.I)\n"
   ]
  },
  {
   "cell_type": "code",
   "execution_count": 46,
   "id": "892a46ba",
   "metadata": {},
   "outputs": [],
   "source": [
    "S = [\"2020 Olympic games have @# been cancelled\",\n",
    "     \"Dr Vikram Sarabhai was +%--the ISRO’s first chairman\",\n",
    "     \"Dr Abdul            Kalam, the father      of India's missile programme\"]"
   ]
  },
  {
   "cell_type": "code",
   "execution_count": 48,
   "id": "493d9612",
   "metadata": {},
   "outputs": [
    {
     "name": "stdout",
     "output_type": "stream",
     "text": [
      "Olympic games have been cancelled\n",
      "Dr Vikram Sarabhai was the ISRO first chairman\n",
      "Dr Abdul Kalam the father of India missile programme\n"
     ]
    }
   ],
   "source": [
    "\n",
    "for i in range(len(S)):\n",
    "    S[i]=re.sub(r'\\W+',' ',S[i])\n",
    "    S[i]=re.sub(r'\\d+',' ',S[i])\n",
    "    S[i]=re.sub(r'^\\s+','',S[i])\n",
    "    S[i] = re.sub(r\"\\s+$\", \"\", S[i])\n",
    "    S[i] = re.sub(r\"\\s+[a-z]\\s+\", \" \", S[i])\n",
    "    \n",
    "for i in S:\n",
    "    print(i)"
   ]
  },
  {
   "cell_type": "code",
   "execution_count": null,
   "id": "3453fafb",
   "metadata": {},
   "outputs": [],
   "source": []
  },
  {
   "cell_type": "code",
   "execution_count": 57,
   "id": "d05a330b",
   "metadata": {},
   "outputs": [
    {
     "data": {
      "text/plain": [
       "'The rain in Spa n'"
      ]
     },
     "execution_count": 57,
     "metadata": {},
     "output_type": "execute_result"
    }
   ],
   "source": [
    "txt = \"The rain in Spa$n\"\n",
    "x = re.sub(\"\\W\",' ' ,txt)\n",
    "\n",
    "\n",
    "x"
   ]
  },
  {
   "cell_type": "code",
   "execution_count": 58,
   "id": "30812862",
   "metadata": {},
   "outputs": [
    {
     "data": {
      "text/plain": [
       "'The rain in Spa'"
      ]
     },
     "execution_count": 58,
     "metadata": {},
     "output_type": "execute_result"
    }
   ],
   "source": [
    "txt='The rain d in Spa n'\n",
    "txt=re.sub(r\"\\s[a-z]$\", \" \",txt)\n",
    "txt=re.sub(r'\\s[a-z]\\s',' ',txt)\n",
    "txt=re.sub(r'\\s$','',txt)\n",
    "txt"
   ]
  },
  {
   "cell_type": "code",
   "execution_count": 2,
   "id": "006b69ee",
   "metadata": {},
   "outputs": [
    {
     "name": "stdout",
     "output_type": "stream",
     "text": [
      "https\n",
      "sabinsapkota\n",
      "sabin\n",
      "djdjs\n",
      "hddh7kkdddk\n",
      "r_rststs_sshsh\n"
     ]
    }
   ],
   "source": [
    "text='this is https://sabinsapkota.com hi  i am sabin 882 djdjs  hddh7kkdddk h@h r_rststs_sshsh'\n",
    "import re\n",
    "pattern=re.compile(r'[a-z]\\w[a-z]+\\w[a-z]+')\n",
    "matches=pattern.finditer(text)\n",
    "for match in matches:\n",
    "    print(match[0])"
   ]
  },
  {
   "cell_type": "code",
   "execution_count": 3,
   "id": "7c14c977",
   "metadata": {},
   "outputs": [],
   "source": [
    "emails = '''\n",
    "CoreyMSchafer@gmail.com\n",
    "corey.schafer@university.edu\n",
    "corey-321-schafer@my-work.net\n",
    "'''"
   ]
  },
  {
   "cell_type": "code",
   "execution_count": 15,
   "id": "1d93a810",
   "metadata": {},
   "outputs": [
    {
     "name": "stdout",
     "output_type": "stream",
     "text": [
      "CoreyMSchafer@gmail.com\n",
      "corey.schafer@university.edu\n",
      "corey-321-schafer@my-work.net\n"
     ]
    }
   ],
   "source": [
    "import re\n",
    "pattern=re.compile(r'[A-Za-z\\S]+\\W[a-z]+\\S(com|edu|net)')\n",
    "matches=pattern.finditer(emails)\n",
    "for match in matches:\n",
    "    print(match[0])"
   ]
  },
  {
   "cell_type": "code",
   "execution_count": null,
   "id": "8e9a3e42",
   "metadata": {},
   "outputs": [],
   "source": []
  },
  {
   "cell_type": "code",
   "execution_count": 18,
   "id": "d53284bf",
   "metadata": {},
   "outputs": [],
   "source": [
    "urls = '''\n",
    "https://www.google.com\n",
    "http://coreyms.com\n",
    "https://youtube.com\n",
    "https://www.nasa.gov\n",
    "'''"
   ]
  },
  {
   "cell_type": "code",
   "execution_count": 26,
   "id": "53d2d6a0",
   "metadata": {},
   "outputs": [
    {
     "name": "stdout",
     "output_type": "stream",
     "text": [
      "https://www.google.com\n",
      "http://coreyms.com\n",
      "https://youtube.com\n",
      "https://www.nasa.gov\n"
     ]
    }
   ],
   "source": [
    "import re\n",
    "pattern=re.compile(r'\\w+\\S//\\w+\\S\\w+\\S\\w+')\n",
    "matches=pattern.finditer(urls)\n",
    "for match in matches:\n",
    "    print(match[0])"
   ]
  },
  {
   "cell_type": "code",
   "execution_count": 27,
   "id": "bc0ffd3c",
   "metadata": {},
   "outputs": [],
   "source": [
    "txt=\"\"\"\n",
    "23-10-2020\n",
    "23/10/2020\n",
    "23/10/20\n",
    "23 oct 2020\n",
    "23 october 2020\n",
    "october 23,2020\n",
    "\"\"\""
   ]
  },
  {
   "cell_type": "code",
   "execution_count": 37,
   "id": "77f7a374",
   "metadata": {},
   "outputs": [
    {
     "name": "stdout",
     "output_type": "stream",
     "text": [
      "23-10-2020\n",
      "23/10/2020\n",
      "23/10/20\n",
      "23 oct 2020\n",
      "23 october 2020\n"
     ]
    }
   ],
   "source": [
    "import re\n",
    "pattern=re.compile(r'\\d+[-/\\s]\\w+[-/\\s]\\d+')\n",
    "matches=pattern.finditer(txt)\n",
    "for match in matches:\n",
    "    print(match[0])"
   ]
  },
  {
   "cell_type": "code",
   "execution_count": 55,
   "id": "70801257",
   "metadata": {},
   "outputs": [
    {
     "data": {
      "text/plain": [
       "'The rain in Spa '"
      ]
     },
     "execution_count": 55,
     "metadata": {},
     "output_type": "execute_result"
    }
   ],
   "source": [
    "txt = \"The rain in Spa$n\"\n",
    "txt=re.sub(r'\\W',' ',txt)\n",
    "txt=re.sub('\\w$','',txt)\n",
    "txt=re.sub('\\s$',' ',txt)\n",
    "txt\n"
   ]
  },
  {
   "cell_type": "code",
   "execution_count": 56,
   "id": "ad0a794c",
   "metadata": {},
   "outputs": [
    {
     "data": {
      "text/plain": [
       "'The rain in Spa '"
      ]
     },
     "execution_count": 56,
     "metadata": {},
     "output_type": "execute_result"
    }
   ],
   "source": [
    "txt"
   ]
  }
 ],
 "metadata": {
  "kernelspec": {
   "display_name": "Python 3",
   "language": "python",
   "name": "python3"
  },
  "language_info": {
   "codemirror_mode": {
    "name": "ipython",
    "version": 3
   },
   "file_extension": ".py",
   "mimetype": "text/x-python",
   "name": "python",
   "nbconvert_exporter": "python",
   "pygments_lexer": "ipython3",
   "version": "3.8.8"
  }
 },
 "nbformat": 4,
 "nbformat_minor": 5
}
