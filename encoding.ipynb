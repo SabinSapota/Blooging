{
  "nbformat": 4,
  "nbformat_minor": 0,
  "metadata": {
    "colab": {
      "name": "encoding.ipynb",
      "provenance": [],
      "authorship_tag": "ABX9TyP/ioOv5XcKNElYWwfeVTD+",
      "include_colab_link": true
    },
    "kernelspec": {
      "name": "python3",
      "display_name": "Python 3"
    },
    "language_info": {
      "name": "python"
    }
  },
  "cells": [
    {
      "cell_type": "markdown",
      "metadata": {
        "id": "view-in-github",
        "colab_type": "text"
      },
      "source": [
        "<a href=\"https://colab.research.google.com/github/SabinSapota/Blooging/blob/main/encoding.ipynb\" target=\"_parent\"><img src=\"https://colab.research.google.com/assets/colab-badge.svg\" alt=\"Open In Colab\"/></a>"
      ]
    },
    {
      "cell_type": "code",
      "metadata": {
        "id": "Na5Zx92rC_Aj"
      },
      "source": [
        ""
      ],
      "execution_count": 5,
      "outputs": []
    },
    {
      "cell_type": "markdown",
      "metadata": {
        "id": "KlFSyAQuurFc"
      },
      "source": [
        "\n",
        "\n",
        "**Importance of Level encoding,Onehot encoder and factorisation for dealing categoricals values**\n"
      ]
    },
    {
      "cell_type": "markdown",
      "metadata": {
        "id": "WUvvUlYRvBlA"
      },
      "source": [
        " for this I use melbourne housing dataset"
      ]
    },
    {
      "cell_type": "code",
      "metadata": {
        "id": "vMmzSJs5uKAT"
      },
      "source": [
        "import pandas as pd\n",
        "\n",
        "from sklearn.model_selection import train_test_split"
      ],
      "execution_count": null,
      "outputs": []
    },
    {
      "cell_type": "code",
      "metadata": {
        "colab": {
          "base_uri": "https://localhost:8080/"
        },
        "id": "L-zC46WMDFfh",
        "outputId": "0b5b8a9f-cf1c-44cf-cda1-52a72d10b5ca"
      },
      "source": [
        "from google.colab import drive\n",
        "drive.mount('/content/drive')"
      ],
      "execution_count": 6,
      "outputs": [
        {
          "output_type": "stream",
          "text": [
            "Mounted at /content/drive\n"
          ],
          "name": "stdout"
        }
      ]
    },
    {
      "cell_type": "code",
      "metadata": {
        "colab": {
          "base_uri": "https://localhost:8080/",
          "height": 180
        },
        "id": "wCK34o84DFia",
        "outputId": "787293d7-2213-46a7-f2e8-c1d72035663d"
      },
      "source": [
        "# laod the data set\n",
        "df=pd.read_csv('/content/drive/MyDrive/spam/melb_data.csv')\n",
        "df.head(2)"
      ],
      "execution_count": 50,
      "outputs": [
        {
          "output_type": "execute_result",
          "data": {
            "text/html": [
              "<div>\n",
              "<style scoped>\n",
              "    .dataframe tbody tr th:only-of-type {\n",
              "        vertical-align: middle;\n",
              "    }\n",
              "\n",
              "    .dataframe tbody tr th {\n",
              "        vertical-align: top;\n",
              "    }\n",
              "\n",
              "    .dataframe thead th {\n",
              "        text-align: right;\n",
              "    }\n",
              "</style>\n",
              "<table border=\"1\" class=\"dataframe\">\n",
              "  <thead>\n",
              "    <tr style=\"text-align: right;\">\n",
              "      <th></th>\n",
              "      <th>Suburb</th>\n",
              "      <th>Address</th>\n",
              "      <th>Rooms</th>\n",
              "      <th>Type</th>\n",
              "      <th>Price</th>\n",
              "      <th>Method</th>\n",
              "      <th>SellerG</th>\n",
              "      <th>Date</th>\n",
              "      <th>Distance</th>\n",
              "      <th>Postcode</th>\n",
              "      <th>Bedroom2</th>\n",
              "      <th>Bathroom</th>\n",
              "      <th>Car</th>\n",
              "      <th>Landsize</th>\n",
              "      <th>BuildingArea</th>\n",
              "      <th>YearBuilt</th>\n",
              "      <th>CouncilArea</th>\n",
              "      <th>Lattitude</th>\n",
              "      <th>Longtitude</th>\n",
              "      <th>Regionname</th>\n",
              "      <th>Propertycount</th>\n",
              "    </tr>\n",
              "  </thead>\n",
              "  <tbody>\n",
              "    <tr>\n",
              "      <th>0</th>\n",
              "      <td>Abbotsford</td>\n",
              "      <td>85 Turner St</td>\n",
              "      <td>2</td>\n",
              "      <td>h</td>\n",
              "      <td>1480000.0</td>\n",
              "      <td>S</td>\n",
              "      <td>Biggin</td>\n",
              "      <td>3/12/2016</td>\n",
              "      <td>2.5</td>\n",
              "      <td>3067.0</td>\n",
              "      <td>2.0</td>\n",
              "      <td>1.0</td>\n",
              "      <td>1.0</td>\n",
              "      <td>202.0</td>\n",
              "      <td>NaN</td>\n",
              "      <td>NaN</td>\n",
              "      <td>Yarra</td>\n",
              "      <td>-37.7996</td>\n",
              "      <td>144.9984</td>\n",
              "      <td>Northern Metropolitan</td>\n",
              "      <td>4019.0</td>\n",
              "    </tr>\n",
              "    <tr>\n",
              "      <th>1</th>\n",
              "      <td>Abbotsford</td>\n",
              "      <td>25 Bloomburg St</td>\n",
              "      <td>2</td>\n",
              "      <td>h</td>\n",
              "      <td>1035000.0</td>\n",
              "      <td>S</td>\n",
              "      <td>Biggin</td>\n",
              "      <td>4/02/2016</td>\n",
              "      <td>2.5</td>\n",
              "      <td>3067.0</td>\n",
              "      <td>2.0</td>\n",
              "      <td>1.0</td>\n",
              "      <td>0.0</td>\n",
              "      <td>156.0</td>\n",
              "      <td>79.0</td>\n",
              "      <td>1900.0</td>\n",
              "      <td>Yarra</td>\n",
              "      <td>-37.8079</td>\n",
              "      <td>144.9934</td>\n",
              "      <td>Northern Metropolitan</td>\n",
              "      <td>4019.0</td>\n",
              "    </tr>\n",
              "  </tbody>\n",
              "</table>\n",
              "</div>"
            ],
            "text/plain": [
              "       Suburb          Address  ...             Regionname Propertycount\n",
              "0  Abbotsford     85 Turner St  ...  Northern Metropolitan        4019.0\n",
              "1  Abbotsford  25 Bloomburg St  ...  Northern Metropolitan        4019.0\n",
              "\n",
              "[2 rows x 21 columns]"
            ]
          },
          "metadata": {
            "tags": []
          },
          "execution_count": 50
        }
      ]
    },
    {
      "cell_type": "code",
      "metadata": {
        "colab": {
          "base_uri": "https://localhost:8080/"
        },
        "id": "sVSxYoGeDFn5",
        "outputId": "164b513f-e074-4fa8-f8fd-6bdcfbebc453"
      },
      "source": [
        "df.shape"
      ],
      "execution_count": 8,
      "outputs": [
        {
          "output_type": "execute_result",
          "data": {
            "text/plain": [
              "(13580, 21)"
            ]
          },
          "metadata": {
            "tags": []
          },
          "execution_count": 8
        }
      ]
    },
    {
      "cell_type": "code",
      "metadata": {
        "colab": {
          "base_uri": "https://localhost:8080/"
        },
        "id": "xd3TdjyJUfaP",
        "outputId": "663ad40d-c753-405e-c14f-b1474d2f97e2"
      },
      "source": [
        "# columns with missing value\n",
        "my_cols=[col for col in df.columns if df[col].isna().any()]\n",
        "my_cols"
      ],
      "execution_count": 9,
      "outputs": [
        {
          "output_type": "execute_result",
          "data": {
            "text/plain": [
              "['Car', 'BuildingArea', 'YearBuilt', 'CouncilArea']"
            ]
          },
          "metadata": {
            "tags": []
          },
          "execution_count": 9
        }
      ]
    },
    {
      "cell_type": "code",
      "metadata": {
        "id": "8zGQ_7pD2lQv"
      },
      "source": [
        "# for this case, I will drop the missing columns\n",
        "df=df.drop(my_cols,axis=1)"
      ],
      "execution_count": 55,
      "outputs": []
    },
    {
      "cell_type": "code",
      "metadata": {
        "colab": {
          "base_uri": "https://localhost:8080/"
        },
        "id": "veFWrMqI3Nln",
        "outputId": "09178440-8e04-4d53-9ac6-e5613d7ff060"
      },
      "source": [
        "# shape after dropping na value\n",
        "df.shape"
      ],
      "execution_count": 11,
      "outputs": [
        {
          "output_type": "execute_result",
          "data": {
            "text/plain": [
              "(13580, 17)"
            ]
          },
          "metadata": {
            "tags": []
          },
          "execution_count": 11
        }
      ]
    },
    {
      "cell_type": "code",
      "metadata": {
        "id": "29FE00SJDFqa"
      },
      "source": [
        "# input features(independent feature)\n",
        "X=df.drop('Price',axis=1)\n",
        "# dependentdent feature\n",
        "y=df['Price']"
      ],
      "execution_count": 56,
      "outputs": []
    },
    {
      "cell_type": "code",
      "metadata": {
        "id": "xw5pYjwlDFtD",
        "colab": {
          "base_uri": "https://localhost:8080/"
        },
        "outputId": "aecd08fc-7cfd-4d7e-fac0-d89394948016"
      },
      "source": [
        "# here i am choosing columns which have low cardinality(meaning uniqueness) less than 10 and are string data types\n",
        "low_car=[cname for cname in X.columns if X[cname].nunique()<10 and X[cname].dtype=='object']\n",
        "low_car"
      ],
      "execution_count": 57,
      "outputs": [
        {
          "output_type": "execute_result",
          "data": {
            "text/plain": [
              "['Type', 'Method', 'Regionname']"
            ]
          },
          "metadata": {
            "tags": []
          },
          "execution_count": 57
        }
      ]
    },
    {
      "cell_type": "code",
      "metadata": {
        "id": "boHHjQBNDFvz",
        "colab": {
          "base_uri": "https://localhost:8080/"
        },
        "outputId": "a3f90c45-2748-47e9-faee-d17dc077175b"
      },
      "source": [
        "# now choosing numeric columns only\n",
        "num_col=[cname for cname in X.columns if X[cname].dtype in ['int64','float64']]\n",
        "num_col"
      ],
      "execution_count": 58,
      "outputs": [
        {
          "output_type": "execute_result",
          "data": {
            "text/plain": [
              "['Rooms',\n",
              " 'Distance',\n",
              " 'Postcode',\n",
              " 'Bedroom2',\n",
              " 'Bathroom',\n",
              " 'Landsize',\n",
              " 'Lattitude',\n",
              " 'Longtitude',\n",
              " 'Propertycount']"
            ]
          },
          "metadata": {
            "tags": []
          },
          "execution_count": 58
        }
      ]
    },
    {
      "cell_type": "code",
      "metadata": {
        "id": "XAwMKBwJVt1g"
      },
      "source": [
        "# combining above two columns\n",
        "my_col=low_car+num_col\n",
        "\n",
        "X=X[my_col]"
      ],
      "execution_count": 59,
      "outputs": []
    },
    {
      "cell_type": "code",
      "metadata": {
        "id": "YoyJAfHNVt4a",
        "colab": {
          "base_uri": "https://localhost:8080/",
          "height": 202
        },
        "outputId": "898e1b38-4967-4aa0-d0e2-d745c68bf705"
      },
      "source": [
        "# my final data set\n",
        "X.head()\n"
      ],
      "execution_count": 60,
      "outputs": [
        {
          "output_type": "execute_result",
          "data": {
            "text/html": [
              "<div>\n",
              "<style scoped>\n",
              "    .dataframe tbody tr th:only-of-type {\n",
              "        vertical-align: middle;\n",
              "    }\n",
              "\n",
              "    .dataframe tbody tr th {\n",
              "        vertical-align: top;\n",
              "    }\n",
              "\n",
              "    .dataframe thead th {\n",
              "        text-align: right;\n",
              "    }\n",
              "</style>\n",
              "<table border=\"1\" class=\"dataframe\">\n",
              "  <thead>\n",
              "    <tr style=\"text-align: right;\">\n",
              "      <th></th>\n",
              "      <th>Type</th>\n",
              "      <th>Method</th>\n",
              "      <th>Regionname</th>\n",
              "      <th>Rooms</th>\n",
              "      <th>Distance</th>\n",
              "      <th>Postcode</th>\n",
              "      <th>Bedroom2</th>\n",
              "      <th>Bathroom</th>\n",
              "      <th>Landsize</th>\n",
              "      <th>Lattitude</th>\n",
              "      <th>Longtitude</th>\n",
              "      <th>Propertycount</th>\n",
              "    </tr>\n",
              "  </thead>\n",
              "  <tbody>\n",
              "    <tr>\n",
              "      <th>0</th>\n",
              "      <td>h</td>\n",
              "      <td>S</td>\n",
              "      <td>Northern Metropolitan</td>\n",
              "      <td>2</td>\n",
              "      <td>2.5</td>\n",
              "      <td>3067.0</td>\n",
              "      <td>2.0</td>\n",
              "      <td>1.0</td>\n",
              "      <td>202.0</td>\n",
              "      <td>-37.7996</td>\n",
              "      <td>144.9984</td>\n",
              "      <td>4019.0</td>\n",
              "    </tr>\n",
              "    <tr>\n",
              "      <th>1</th>\n",
              "      <td>h</td>\n",
              "      <td>S</td>\n",
              "      <td>Northern Metropolitan</td>\n",
              "      <td>2</td>\n",
              "      <td>2.5</td>\n",
              "      <td>3067.0</td>\n",
              "      <td>2.0</td>\n",
              "      <td>1.0</td>\n",
              "      <td>156.0</td>\n",
              "      <td>-37.8079</td>\n",
              "      <td>144.9934</td>\n",
              "      <td>4019.0</td>\n",
              "    </tr>\n",
              "    <tr>\n",
              "      <th>2</th>\n",
              "      <td>h</td>\n",
              "      <td>SP</td>\n",
              "      <td>Northern Metropolitan</td>\n",
              "      <td>3</td>\n",
              "      <td>2.5</td>\n",
              "      <td>3067.0</td>\n",
              "      <td>3.0</td>\n",
              "      <td>2.0</td>\n",
              "      <td>134.0</td>\n",
              "      <td>-37.8093</td>\n",
              "      <td>144.9944</td>\n",
              "      <td>4019.0</td>\n",
              "    </tr>\n",
              "    <tr>\n",
              "      <th>3</th>\n",
              "      <td>h</td>\n",
              "      <td>PI</td>\n",
              "      <td>Northern Metropolitan</td>\n",
              "      <td>3</td>\n",
              "      <td>2.5</td>\n",
              "      <td>3067.0</td>\n",
              "      <td>3.0</td>\n",
              "      <td>2.0</td>\n",
              "      <td>94.0</td>\n",
              "      <td>-37.7969</td>\n",
              "      <td>144.9969</td>\n",
              "      <td>4019.0</td>\n",
              "    </tr>\n",
              "    <tr>\n",
              "      <th>4</th>\n",
              "      <td>h</td>\n",
              "      <td>VB</td>\n",
              "      <td>Northern Metropolitan</td>\n",
              "      <td>4</td>\n",
              "      <td>2.5</td>\n",
              "      <td>3067.0</td>\n",
              "      <td>3.0</td>\n",
              "      <td>1.0</td>\n",
              "      <td>120.0</td>\n",
              "      <td>-37.8072</td>\n",
              "      <td>144.9941</td>\n",
              "      <td>4019.0</td>\n",
              "    </tr>\n",
              "  </tbody>\n",
              "</table>\n",
              "</div>"
            ],
            "text/plain": [
              "  Type Method             Regionname  ...  Lattitude  Longtitude  Propertycount\n",
              "0    h      S  Northern Metropolitan  ...   -37.7996    144.9984         4019.0\n",
              "1    h      S  Northern Metropolitan  ...   -37.8079    144.9934         4019.0\n",
              "2    h     SP  Northern Metropolitan  ...   -37.8093    144.9944         4019.0\n",
              "3    h     PI  Northern Metropolitan  ...   -37.7969    144.9969         4019.0\n",
              "4    h     VB  Northern Metropolitan  ...   -37.8072    144.9941         4019.0\n",
              "\n",
              "[5 rows x 12 columns]"
            ]
          },
          "metadata": {
            "tags": []
          },
          "execution_count": 60
        }
      ]
    },
    {
      "cell_type": "code",
      "metadata": {
        "id": "a3So23l3Vt6t",
        "colab": {
          "base_uri": "https://localhost:8080/"
        },
        "outputId": "6580f017-4e24-4313-9a0b-7d16f2241919"
      },
      "source": [
        "# getting categogicals columns\n",
        "[cname for cname in X.columns if X[cname].dtype=='object']"
      ],
      "execution_count": 43,
      "outputs": [
        {
          "output_type": "execute_result",
          "data": {
            "text/plain": [
              "['Type', 'Method', 'Regionname']"
            ]
          },
          "metadata": {
            "tags": []
          },
          "execution_count": 43
        }
      ]
    },
    {
      "cell_type": "markdown",
      "metadata": {
        "id": "7g8Ajr9cwChX"
      },
      "source": [
        "Now, I  used MAE(mean absulute error) to evalute the regression problem's accuracy since this is a regression problems"
      ]
    },
    {
      "cell_type": "code",
      "metadata": {
        "id": "XJPVQOK5VuAf"
      },
      "source": [
        "from sklearn.ensemble import RandomForestRegressor\n",
        "from sklearn.metrics import mean_absolute_error\n",
        "\n",
        "# Function for comparing different approaches by calculating MAE\n",
        "def score_dataset(X_train, X_test, y_train, y_test):\n",
        "    model = RandomForestRegressor(n_estimators=100, random_state=0)\n",
        "    model.fit(X_train, y_train)\n",
        "    preds = model.predict(X_test)\n",
        "    return mean_absolute_error(y_test, preds)"
      ],
      "execution_count": 21,
      "outputs": []
    },
    {
      "cell_type": "markdown",
      "metadata": {
        "id": "57J0fm4T8DuE"
      },
      "source": [
        "First we calculate MAE(Mean absolute error) by dropping categoricals columns"
      ]
    },
    {
      "cell_type": "code",
      "metadata": {
        "id": "ozRWkF09VuDe",
        "colab": {
          "base_uri": "https://localhost:8080/"
        },
        "outputId": "2fba6c42-ccec-47c0-b00f-1cba5e28cf73"
      },
      "source": [
        "\n",
        "#Divide data into training and validation subsets\n",
        "X_train, X_test, y_train, y_test = train_test_split(X, y, train_size=0.8, test_size=0.2,random_state=0)\n",
        "drop_X_train = X_train.select_dtypes(exclude=['object'])\n",
        "drop_X_test = X_test.select_dtypes(exclude=['object'])\n",
        "\n",
        "\n",
        "print(\"MAE from Approach 1 (Drop categorical variables):\")\n",
        "print(score_dataset(drop_X_train, drop_X_test, y_train, y_test))"
      ],
      "execution_count": 48,
      "outputs": [
        {
          "output_type": "stream",
          "text": [
            "MAE from Approach 1 (Drop categorical variables):\n",
            "175703.48185157913\n"
          ],
          "name": "stdout"
        }
      ]
    },
    {
      "cell_type": "markdown",
      "metadata": {
        "id": "8Ku6luR-nH2E"
      },
      "source": [
        "Label Encoding"
      ]
    },
    {
      "cell_type": "code",
      "metadata": {
        "colab": {
          "base_uri": "https://localhost:8080/"
        },
        "id": "Lvz0eR9TFDUO",
        "outputId": "bcbdf427-1d64-4247-bc31-12204fab1a37"
      },
      "source": [
        "# extracting columns with string\n",
        "x=[cname for cname in X.columns if X[cname].dtype=='object']\n",
        "x\n"
      ],
      "execution_count": 17,
      "outputs": [
        {
          "output_type": "execute_result",
          "data": {
            "text/plain": [
              "['Type', 'Method', 'Regionname']"
            ]
          },
          "metadata": {
            "tags": []
          },
          "execution_count": 17
        }
      ]
    },
    {
      "cell_type": "code",
      "metadata": {
        "id": "otY13D6eFDgB"
      },
      "source": [
        "X=X[my_col]"
      ],
      "execution_count": 68,
      "outputs": []
    },
    {
      "cell_type": "code",
      "metadata": {
        "id": "ESxJ8FgiFDro"
      },
      "source": [
        "from sklearn.preprocessing import LabelEncoder\n",
        "my_model=LabelEncoder()\n",
        "for i in x:\n",
        "  X[i]=my_model.fit_transform(df[i])"
      ],
      "execution_count": 18,
      "outputs": []
    },
    {
      "cell_type": "code",
      "metadata": {
        "id": "a8GyerwvFDux"
      },
      "source": [
        "#Divide data into training and validation subsets\n",
        "X_train, X_test, y_train, y_test = train_test_split(X, y, train_size=0.8, test_size=0.2,random_state=0)"
      ],
      "execution_count": 19,
      "outputs": []
    },
    {
      "cell_type": "code",
      "metadata": {
        "colab": {
          "base_uri": "https://localhost:8080/"
        },
        "id": "uy1LG1yWlgcO",
        "outputId": "8351e6f3-16bb-4c72-b179-6b917a543498"
      },
      "source": [
        "print('MAE value with label Enocding:')\n",
        "score_dataset(X_train,X_test,y_train,y_test)"
      ],
      "execution_count": 23,
      "outputs": [
        {
          "output_type": "stream",
          "text": [
            "MAE value with label Enocding:\n"
          ],
          "name": "stdout"
        },
        {
          "output_type": "execute_result",
          "data": {
            "text/plain": [
              "165936.40548390493"
            ]
          },
          "metadata": {
            "tags": []
          },
          "execution_count": 23
        }
      ]
    },
    {
      "cell_type": "markdown",
      "metadata": {
        "id": "5OZUkL1InkcP"
      },
      "source": [
        "**factorise method**"
      ]
    },
    {
      "cell_type": "code",
      "metadata": {
        "id": "L-bVKLZspo-X"
      },
      "source": [
        "for colname in X.select_dtypes(\"object\"):\n",
        "    X[colname], _ = X[colname].factorize()\n"
      ],
      "execution_count": 62,
      "outputs": []
    },
    {
      "cell_type": "code",
      "metadata": {
        "colab": {
          "base_uri": "https://localhost:8080/"
        },
        "id": "TCSNIz_8ppBD",
        "outputId": "567aea59-2b96-4406-8035-af45a6389748"
      },
      "source": [
        "\n",
        "X_train, X_test, y_train, y_test = train_test_split(X, y, train_size=0.8, test_size=0.2,random_state=0)\n",
        "score_dataset(X_train,X_test,y_train,y_test)\n"
      ],
      "execution_count": 63,
      "outputs": [
        {
          "output_type": "execute_result",
          "data": {
            "text/plain": [
              "167929.79475313835"
            ]
          },
          "metadata": {
            "tags": []
          },
          "execution_count": 63
        }
      ]
    },
    {
      "cell_type": "markdown",
      "metadata": {
        "id": "E0qlLdz1xbYo"
      },
      "source": [
        "**OneHot Encoding**"
      ]
    },
    {
      "cell_type": "code",
      "metadata": {
        "id": "65wpYwBtppFy"
      },
      "source": [
        "from sklearn.preprocessing import  OneHotEncoder\n",
        "ohe=OneHotEncoder()"
      ],
      "execution_count": null,
      "outputs": []
    },
    {
      "cell_type": "code",
      "metadata": {
        "id": "QQjhBobrppIi"
      },
      "source": [
        "for i in x:\n",
        "  ##reshape the 1-D country array to 2-D as fit_transform expects 2-D and finally fit the object\n",
        "  X[i] = ohe.fit_transform(X[i].values.reshape(-1,1)).toarray()"
      ],
      "execution_count": null,
      "outputs": []
    },
    {
      "cell_type": "code",
      "metadata": {
        "colab": {
          "base_uri": "https://localhost:8080/"
        },
        "id": "8uHaqmdMppN9",
        "outputId": "2cbf9a39-06ba-4678-d01c-61553a9e416e"
      },
      "source": [
        "X_train, X_test, y_train, y_test = train_test_split(X, y, train_size=0.8, test_size=0.2,random_state=0)\n",
        "score_dataset(X_train,X_test,y_train,y_test)"
      ],
      "execution_count": 65,
      "outputs": [
        {
          "output_type": "execute_result",
          "data": {
            "text/plain": [
              "168502.60937745858"
            ]
          },
          "metadata": {
            "tags": []
          },
          "execution_count": 65
        }
      ]
    },
    {
      "cell_type": "markdown",
      "metadata": {
        "id": "zQ1slpaAxziP"
      },
      "source": [
        "Conclusion,\n",
        "  we can see after  reducing categoricals columns to respective label encoding,one hot encoding and factorising columns we have reduced the MAE error bewteen actual value and predicted value.\n",
        "  Lower the MAE value , better the model."
      ]
    },
    {
      "cell_type": "code",
      "metadata": {
        "id": "tCbsne10ppTM"
      },
      "source": [
        ""
      ],
      "execution_count": null,
      "outputs": []
    },
    {
      "cell_type": "code",
      "metadata": {
        "id": "0dlxOAWNppWV"
      },
      "source": [
        ""
      ],
      "execution_count": null,
      "outputs": []
    },
    {
      "cell_type": "code",
      "metadata": {
        "id": "hbqmEHLVppYx"
      },
      "source": [
        ""
      ],
      "execution_count": null,
      "outputs": []
    },
    {
      "cell_type": "code",
      "metadata": {
        "id": "poGWktJJuGLP"
      },
      "source": [
        ""
      ],
      "execution_count": null,
      "outputs": []
    }
  ]
}