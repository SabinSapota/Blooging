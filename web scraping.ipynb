{
 "cells": [
  {
   "cell_type": "code",
   "execution_count": 2,
   "id": "2bc1b597",
   "metadata": {},
   "outputs": [],
   "source": [
    "from bs4 import BeautifulSoup\n",
    "import requests"
   ]
  },
  {
   "cell_type": "code",
   "execution_count": 4,
   "id": "f130e4ed",
   "metadata": {},
   "outputs": [],
   "source": [
    "source=requests.get('https://coreyms.com').text\n",
    "soup=BeautifulSoup(source,'lxml')"
   ]
  },
  {
   "cell_type": "code",
   "execution_count": 8,
   "id": "9a50d0eb",
   "metadata": {},
   "outputs": [
    {
     "name": "stdout",
     "output_type": "stream",
     "text": [
      "Python Tutorial: Zip Files – Creating and Extracting Zip Archives\n"
     ]
    }
   ],
   "source": [
    "article=soup.find('article')  # headline\n",
    "headline=article.h2.a.text\n",
    "print(headline)"
   ]
  },
  {
   "cell_type": "code",
   "execution_count": 9,
   "id": "8211a449",
   "metadata": {},
   "outputs": [
    {
     "data": {
      "text/plain": [
       "'In this video, we will be learning how to create and extract zip archives. We will start by using the zipfile module, and then we will see how to do this using the shutil module. We will learn how to do this with single files and directories, as well as learning how to use gzip as well. Let’s get started…'"
      ]
     },
     "execution_count": 9,
     "metadata": {},
     "output_type": "execute_result"
    }
   ],
   "source": [
    "# summary tag\n",
    "summary=soup.find('div',class_='entry-content').p.text\n",
    "summary"
   ]
  },
  {
   "cell_type": "code",
   "execution_count": 16,
   "id": "eda35c10",
   "metadata": {},
   "outputs": [
    {
     "name": "stdout",
     "output_type": "stream",
     "text": [
      "z0gguhEmWiY\n"
     ]
    }
   ],
   "source": [
    "#print(article.prettify())\n",
    "vid_id=soup.find('iframe',class_='youtube-player')['src'].split('/')[-1].split('?')[0]\n",
    "print(vid_id)"
   ]
  },
  {
   "cell_type": "code",
   "execution_count": 18,
   "id": "e54b266b",
   "metadata": {},
   "outputs": [
    {
     "name": "stdout",
     "output_type": "stream",
     "text": [
      " https://youtube.com/watch?v=z0gguhEmWiY\n"
     ]
    }
   ],
   "source": [
    "#creating video link\n",
    "vid_link= f' https://youtube.com/watch?v={vid_id}'\n",
    "print(vid_link)"
   ]
  },
  {
   "cell_type": "code",
   "execution_count": 26,
   "id": "da09d955",
   "metadata": {},
   "outputs": [
    {
     "name": "stdout",
     "output_type": "stream",
     "text": [
      "Python Tutorial: Zip Files – Creating and Extracting Zip Archives\n",
      "In this video, we will be learning how to create and extract zip archives. We will start by using the zipfile module, and then we will see how to do this using the shutil module. We will learn how to do this with single files and directories, as well as learning how to use gzip as well. Let’s get started…\n",
      " https://youtube.com/watch?v=z0gguhEmWiY\n",
      "************************************************************************************************************************\n",
      "Python Data Science Tutorial: Analyzing the 2019 Stack Overflow Developer Survey\n",
      "In this video, we will be learning how to create and extract zip archives. We will start by using the zipfile module, and then we will see how to do this using the shutil module. We will learn how to do this with single files and directories, as well as learning how to use gzip as well. Let’s get started…\n",
      " https://youtube.com/watch?v=z0gguhEmWiY\n",
      "************************************************************************************************************************\n",
      "Python Multiprocessing Tutorial: Run Code in Parallel Using the Multiprocessing Module\n",
      "In this video, we will be learning how to create and extract zip archives. We will start by using the zipfile module, and then we will see how to do this using the shutil module. We will learn how to do this with single files and directories, as well as learning how to use gzip as well. Let’s get started…\n",
      " https://youtube.com/watch?v=z0gguhEmWiY\n",
      "************************************************************************************************************************\n",
      "Python Threading Tutorial: Run Code Concurrently Using the Threading Module\n",
      "In this video, we will be learning how to create and extract zip archives. We will start by using the zipfile module, and then we will see how to do this using the shutil module. We will learn how to do this with single files and directories, as well as learning how to use gzip as well. Let’s get started…\n",
      " https://youtube.com/watch?v=z0gguhEmWiY\n",
      "************************************************************************************************************************\n",
      "Update (2019-09-03)\n",
      "In this video, we will be learning how to create and extract zip archives. We will start by using the zipfile module, and then we will see how to do this using the shutil module. We will learn how to do this with single files and directories, as well as learning how to use gzip as well. Let’s get started…\n",
      " https://youtube.com/watch?v=z0gguhEmWiY\n",
      "************************************************************************************************************************\n",
      "Python Quick Tip: The Difference Between “==” and “is” (Equality vs Identity)\n",
      "In this video, we will be learning how to create and extract zip archives. We will start by using the zipfile module, and then we will see how to do this using the shutil module. We will learn how to do this with single files and directories, as well as learning how to use gzip as well. Let’s get started…\n",
      " https://youtube.com/watch?v=z0gguhEmWiY\n",
      "************************************************************************************************************************\n",
      "Python Tutorial: Calling External Commands Using the Subprocess Module\n",
      "In this video, we will be learning how to create and extract zip archives. We will start by using the zipfile module, and then we will see how to do this using the shutil module. We will learn how to do this with single files and directories, as well as learning how to use gzip as well. Let’s get started…\n",
      " https://youtube.com/watch?v=z0gguhEmWiY\n",
      "************************************************************************************************************************\n",
      "Visual Studio Code (Windows) – Setting up a Python Development Environment and Complete Overview\n",
      "In this video, we will be learning how to create and extract zip archives. We will start by using the zipfile module, and then we will see how to do this using the shutil module. We will learn how to do this with single files and directories, as well as learning how to use gzip as well. Let’s get started…\n",
      " https://youtube.com/watch?v=z0gguhEmWiY\n",
      "************************************************************************************************************************\n",
      "Visual Studio Code (Mac) – Setting up a Python Development Environment and Complete Overview\n",
      "In this video, we will be learning how to create and extract zip archives. We will start by using the zipfile module, and then we will see how to do this using the shutil module. We will learn how to do this with single files and directories, as well as learning how to use gzip as well. Let’s get started…\n",
      " https://youtube.com/watch?v=z0gguhEmWiY\n",
      "************************************************************************************************************************\n",
      "Clarifying the Issues with Mutable Default Arguments\n",
      "In this video, we will be learning how to create and extract zip archives. We will start by using the zipfile module, and then we will see how to do this using the shutil module. We will learn how to do this with single files and directories, as well as learning how to use gzip as well. Let’s get started…\n",
      " https://youtube.com/watch?v=z0gguhEmWiY\n",
      "************************************************************************************************************************\n"
     ]
    }
   ],
   "source": [
    "# for all  video in website\n",
    "import csv\n",
    "csv_file=open('web_scraping.csv','w')\n",
    "csv_writer=csv.writer(csv_file)\n",
    "csv_writer.writerow(['headline','summary','vid_link'])\n",
    "for article in soup.find_all('article'):  \n",
    "    headline=article.h2.a.text\n",
    "    print(headline)\n",
    "    summary=soup.find('div',class_='entry-content').p.text\n",
    "    print(summary)\n",
    "    vid_id=soup.find('iframe',class_='youtube-player')['src'].split('/')[-1].split('?')[0]\n",
    "    vid_link= f' https://youtube.com/watch?v={vid_id}'\n",
    "    print(vid_link)\n",
    "    print('*'*120)\n",
    "    csv_writer.writerow([headline,summary,vid_link])\n",
    "csv_file.close()    "
   ]
  },
  {
   "cell_type": "code",
   "execution_count": 28,
   "id": "47f79c86",
   "metadata": {},
   "outputs": [
    {
     "data": {
      "text/html": [
       "<div>\n",
       "<style scoped>\n",
       "    .dataframe tbody tr th:only-of-type {\n",
       "        vertical-align: middle;\n",
       "    }\n",
       "\n",
       "    .dataframe tbody tr th {\n",
       "        vertical-align: top;\n",
       "    }\n",
       "\n",
       "    .dataframe thead th {\n",
       "        text-align: right;\n",
       "    }\n",
       "</style>\n",
       "<table border=\"1\" class=\"dataframe\">\n",
       "  <thead>\n",
       "    <tr style=\"text-align: right;\">\n",
       "      <th></th>\n",
       "      <th>headline</th>\n",
       "      <th>summary</th>\n",
       "      <th>vid_link</th>\n",
       "    </tr>\n",
       "  </thead>\n",
       "  <tbody>\n",
       "    <tr>\n",
       "      <th>0</th>\n",
       "      <td>Python Tutorial: Zip Files � Creating and Extr...</td>\n",
       "      <td>In this video, we will be learning how to crea...</td>\n",
       "      <td>https://youtube.com/watch?v=z0gguhEmWiY</td>\n",
       "    </tr>\n",
       "    <tr>\n",
       "      <th>1</th>\n",
       "      <td>Python Data Science Tutorial: Analyzing the 20...</td>\n",
       "      <td>In this video, we will be learning how to crea...</td>\n",
       "      <td>https://youtube.com/watch?v=z0gguhEmWiY</td>\n",
       "    </tr>\n",
       "    <tr>\n",
       "      <th>2</th>\n",
       "      <td>Python Multiprocessing Tutorial: Run Code in P...</td>\n",
       "      <td>In this video, we will be learning how to crea...</td>\n",
       "      <td>https://youtube.com/watch?v=z0gguhEmWiY</td>\n",
       "    </tr>\n",
       "    <tr>\n",
       "      <th>3</th>\n",
       "      <td>Python Threading Tutorial: Run Code Concurrent...</td>\n",
       "      <td>In this video, we will be learning how to crea...</td>\n",
       "      <td>https://youtube.com/watch?v=z0gguhEmWiY</td>\n",
       "    </tr>\n",
       "    <tr>\n",
       "      <th>4</th>\n",
       "      <td>Update (2019-09-03)</td>\n",
       "      <td>In this video, we will be learning how to crea...</td>\n",
       "      <td>https://youtube.com/watch?v=z0gguhEmWiY</td>\n",
       "    </tr>\n",
       "    <tr>\n",
       "      <th>5</th>\n",
       "      <td>Python Quick Tip: The Difference Between �==� ...</td>\n",
       "      <td>In this video, we will be learning how to crea...</td>\n",
       "      <td>https://youtube.com/watch?v=z0gguhEmWiY</td>\n",
       "    </tr>\n",
       "    <tr>\n",
       "      <th>6</th>\n",
       "      <td>Python Tutorial: Calling External Commands Usi...</td>\n",
       "      <td>In this video, we will be learning how to crea...</td>\n",
       "      <td>https://youtube.com/watch?v=z0gguhEmWiY</td>\n",
       "    </tr>\n",
       "    <tr>\n",
       "      <th>7</th>\n",
       "      <td>Visual Studio Code (Windows) � Setting up a Py...</td>\n",
       "      <td>In this video, we will be learning how to crea...</td>\n",
       "      <td>https://youtube.com/watch?v=z0gguhEmWiY</td>\n",
       "    </tr>\n",
       "    <tr>\n",
       "      <th>8</th>\n",
       "      <td>Visual Studio Code (Mac) � Setting up a Python...</td>\n",
       "      <td>In this video, we will be learning how to crea...</td>\n",
       "      <td>https://youtube.com/watch?v=z0gguhEmWiY</td>\n",
       "    </tr>\n",
       "    <tr>\n",
       "      <th>9</th>\n",
       "      <td>Clarifying the Issues with Mutable Default Arg...</td>\n",
       "      <td>In this video, we will be learning how to crea...</td>\n",
       "      <td>https://youtube.com/watch?v=z0gguhEmWiY</td>\n",
       "    </tr>\n",
       "  </tbody>\n",
       "</table>\n",
       "</div>"
      ],
      "text/plain": [
       "                                            headline  \\\n",
       "0  Python Tutorial: Zip Files � Creating and Extr...   \n",
       "1  Python Data Science Tutorial: Analyzing the 20...   \n",
       "2  Python Multiprocessing Tutorial: Run Code in P...   \n",
       "3  Python Threading Tutorial: Run Code Concurrent...   \n",
       "4                                Update (2019-09-03)   \n",
       "5  Python Quick Tip: The Difference Between �==� ...   \n",
       "6  Python Tutorial: Calling External Commands Usi...   \n",
       "7  Visual Studio Code (Windows) � Setting up a Py...   \n",
       "8  Visual Studio Code (Mac) � Setting up a Python...   \n",
       "9  Clarifying the Issues with Mutable Default Arg...   \n",
       "\n",
       "                                             summary  \\\n",
       "0  In this video, we will be learning how to crea...   \n",
       "1  In this video, we will be learning how to crea...   \n",
       "2  In this video, we will be learning how to crea...   \n",
       "3  In this video, we will be learning how to crea...   \n",
       "4  In this video, we will be learning how to crea...   \n",
       "5  In this video, we will be learning how to crea...   \n",
       "6  In this video, we will be learning how to crea...   \n",
       "7  In this video, we will be learning how to crea...   \n",
       "8  In this video, we will be learning how to crea...   \n",
       "9  In this video, we will be learning how to crea...   \n",
       "\n",
       "                                   vid_link  \n",
       "0   https://youtube.com/watch?v=z0gguhEmWiY  \n",
       "1   https://youtube.com/watch?v=z0gguhEmWiY  \n",
       "2   https://youtube.com/watch?v=z0gguhEmWiY  \n",
       "3   https://youtube.com/watch?v=z0gguhEmWiY  \n",
       "4   https://youtube.com/watch?v=z0gguhEmWiY  \n",
       "5   https://youtube.com/watch?v=z0gguhEmWiY  \n",
       "6   https://youtube.com/watch?v=z0gguhEmWiY  \n",
       "7   https://youtube.com/watch?v=z0gguhEmWiY  \n",
       "8   https://youtube.com/watch?v=z0gguhEmWiY  \n",
       "9   https://youtube.com/watch?v=z0gguhEmWiY  "
      ]
     },
     "execution_count": 28,
     "metadata": {},
     "output_type": "execute_result"
    }
   ],
   "source": [
    "import pandas as pd\n",
    "df=pd.read_csv('web_scraping.csv')\n",
    "df"
   ]
  },
  {
   "cell_type": "code",
   "execution_count": null,
   "id": "cac75ac2",
   "metadata": {},
   "outputs": [],
   "source": []
  },
  {
   "cell_type": "code",
   "execution_count": null,
   "id": "1cf363ec",
   "metadata": {},
   "outputs": [],
   "source": []
  }
 ],
 "metadata": {
  "kernelspec": {
   "display_name": "Python 3",
   "language": "python",
   "name": "python3"
  },
  "language_info": {
   "codemirror_mode": {
    "name": "ipython",
    "version": 3
   },
   "file_extension": ".py",
   "mimetype": "text/x-python",
   "name": "python",
   "nbconvert_exporter": "python",
   "pygments_lexer": "ipython3",
   "version": "3.8.8"
  }
 },
 "nbformat": 4,
 "nbformat_minor": 5
}
